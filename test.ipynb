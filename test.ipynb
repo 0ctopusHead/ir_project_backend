{
 "cells": [
  {
   "cell_type": "code",
   "execution_count": 294,
   "metadata": {
    "collapsed": true,
    "ExecuteTime": {
     "start_time": "2024-03-12T18:18:29.728948Z",
     "end_time": "2024-03-12T18:18:29.729391Z"
    }
   },
   "outputs": [],
   "source": [
    "import os\n",
    "import pickle\n",
    "from pathlib import Path\n",
    "import pandas as pd\n",
    "import string\n",
    "import re"
   ]
  },
  {
   "cell_type": "code",
   "execution_count": 295,
   "outputs": [],
   "source": [
    "df_recipe = pd.read_csv(\"data/raw/recipes.csv\", encoding='UTF-8')"
   ],
   "metadata": {
    "collapsed": false,
    "ExecuteTime": {
     "start_time": "2024-03-12T18:18:30.409726Z",
     "end_time": "2024-03-12T18:18:37.263790Z"
    }
   }
  },
  {
   "cell_type": "code",
   "execution_count": 296,
   "outputs": [],
   "source": [
    "df_recipe = df_recipe.drop(columns=['RecipeIngredientQuantities', 'CookTime', 'PrepTime', 'TotalTime', 'DatePublished', 'Keywords', 'Calories', 'FatContent', 'SaturatedFatContent', 'CholesterolContent', 'SodiumContent', 'CarbohydrateContent', 'FiberContent', 'SugarContent', 'ProteinContent', 'RecipeServings', 'RecipeYield'])"
   ],
   "metadata": {
    "collapsed": false,
    "ExecuteTime": {
     "start_time": "2024-03-12T18:18:37.266266Z",
     "end_time": "2024-03-12T18:18:37.332051Z"
    }
   }
  },
  {
   "cell_type": "code",
   "execution_count": 297,
   "outputs": [
    {
     "data": {
      "text/plain": "        RecipeId                                              Name  \\\n0             38                 Low-Fat Berry Blue Frozen Dessert   \n1             39                                           Biryani   \n2             40                                     Best Lemonade   \n3             41                    Carina's Tofu-Vegetable Kebabs   \n4             42                                      Cabbage Soup   \n...          ...                                               ...   \n522512    541379                    Meg's Fresh Ginger Gingerbread   \n522513    541380  Roast Prime Rib au Poivre with Mixed Peppercorns   \n522514    541381                             Kirshwasser Ice Cream   \n522515    541382          Quick & Easy Asian Cucumber Salmon Rolls   \n522516    541383                           Spicy Baked Scotch Eggs   \n\n          AuthorId      AuthorName  \\\n0             1533          Dancer   \n1             1567        elly9812   \n2             1566  Stephen Little   \n3             1586         Cyclopz   \n4             1538       Duckie067   \n...            ...             ...   \n522512  2002090414           rdsxc   \n522513      211566    Denver cooks   \n522514  2001131545     Jonathan F.   \n522515  2001004241       CLUBFOODY   \n522516      188099    Chef LauraMD   \n\n                                              Description  \\\n0       Make and share this Low-Fat Berry Blue Frozen ...   \n1       Make and share this Biryani recipe from Food.com.   \n2       This is from one of my  first Good House Keepi...   \n3       This dish is best prepared a day in advance to...   \n4       Make and share this Cabbage Soup recipe from F...   \n...                                                   ...   \n522512  Make and share this Meg's Fresh Ginger Gingerb...   \n522513  White, black, green, and pink peppercorns add ...   \n522514  Make and share this Kirshwasser Ice Cream reci...   \n522515  Extremely quick and easy to make, these are gr...   \n522516  Great way to have hard boiled eggs and crispy,...   \n\n                                                   Images   RecipeCategory  \\\n0       c(\"https://img.sndimg.com/food/image/upload/w_...  Frozen Desserts   \n1       c(\"https://img.sndimg.com/food/image/upload/w_...   Chicken Breast   \n2       c(\"https://img.sndimg.com/food/image/upload/w_...        Beverages   \n3       c(\"https://img.sndimg.com/food/image/upload/w_...         Soy/Tofu   \n4       \"https://img.sndimg.com/food/image/upload/w_55...        Vegetable   \n...                                                   ...              ...   \n522512                                       character(0)          Dessert   \n522513  \"https://img.sndimg.com/food/image/upload/w_55...   Very Low Carbs   \n522514                                       character(0)        Ice Cream   \n522515  \"https://img.sndimg.com/food/image/upload/w_55...         Canadian   \n522516                                       character(0)        Breakfast   \n\n                                    RecipeIngredientParts  AggregatedRating  \\\n0       c(\"blueberries\", \"granulated sugar\", \"vanilla ...               4.5   \n1       c(\"saffron\", \"milk\", \"hot green chili peppers\"...               3.0   \n2       c(\"sugar\", \"lemons, rind of\", \"lemon, zest of\"...               4.5   \n3       c(\"extra firm tofu\", \"eggplant\", \"zucchini\", \"...               4.5   \n4       c(\"plain tomato juice\", \"cabbage\", \"onion\", \"c...               4.5   \n...                                                   ...               ...   \n522512  c(\"fresh ginger\", \"unsalted butter\", \"dark bro...               NaN   \n522513  c(\"Dijon mustard\", \"garlic\", \"peppercorns\", \"s...               NaN   \n522514  c(\"half-and-half\", \"heavy cream\", \"brandy\", \"s...               NaN   \n522515  c(\"wasabi paste\", \"dill\", \"English cucumber\", ...               NaN   \n522516  c(\"hard-boiled eggs\", \"breakfast sausage\", \"pa...               NaN   \n\n        ReviewCount                                 RecipeInstructions  \n0               4.0  c(\"Toss 2 cups berries with sugar.\", \"Let stan...  \n1               1.0  c(\"Soak saffron in warm milk for 5 minutes and...  \n2              10.0  c(\"Into a 1 quart Jar with tight fitting lid, ...  \n3               2.0  c(\"Drain the tofu, carefully squeezing out exc...  \n4              11.0  c(\"Mix everything together and bring to a boil...  \n...             ...                                                ...  \n522512          NaN  c(\"Preheat oven to 350&deg;F Grease an 8x8 cak...  \n522513          NaN  c(\"Position rack in center of oven and preheat...  \n522514          NaN  c(\"heat half and half and heavy cream to a sim...  \n522515          NaN  c(\"In a small bowl, combine mayo and wasabi pa...  \n522516          NaN  c(\"Mix sausage, panko, egg yolk and Wocestersh...  \n\n[522517 rows x 11 columns]",
      "text/html": "<div>\n<style scoped>\n    .dataframe tbody tr th:only-of-type {\n        vertical-align: middle;\n    }\n\n    .dataframe tbody tr th {\n        vertical-align: top;\n    }\n\n    .dataframe thead th {\n        text-align: right;\n    }\n</style>\n<table border=\"1\" class=\"dataframe\">\n  <thead>\n    <tr style=\"text-align: right;\">\n      <th></th>\n      <th>RecipeId</th>\n      <th>Name</th>\n      <th>AuthorId</th>\n      <th>AuthorName</th>\n      <th>Description</th>\n      <th>Images</th>\n      <th>RecipeCategory</th>\n      <th>RecipeIngredientParts</th>\n      <th>AggregatedRating</th>\n      <th>ReviewCount</th>\n      <th>RecipeInstructions</th>\n    </tr>\n  </thead>\n  <tbody>\n    <tr>\n      <th>0</th>\n      <td>38</td>\n      <td>Low-Fat Berry Blue Frozen Dessert</td>\n      <td>1533</td>\n      <td>Dancer</td>\n      <td>Make and share this Low-Fat Berry Blue Frozen ...</td>\n      <td>c(\"https://img.sndimg.com/food/image/upload/w_...</td>\n      <td>Frozen Desserts</td>\n      <td>c(\"blueberries\", \"granulated sugar\", \"vanilla ...</td>\n      <td>4.5</td>\n      <td>4.0</td>\n      <td>c(\"Toss 2 cups berries with sugar.\", \"Let stan...</td>\n    </tr>\n    <tr>\n      <th>1</th>\n      <td>39</td>\n      <td>Biryani</td>\n      <td>1567</td>\n      <td>elly9812</td>\n      <td>Make and share this Biryani recipe from Food.com.</td>\n      <td>c(\"https://img.sndimg.com/food/image/upload/w_...</td>\n      <td>Chicken Breast</td>\n      <td>c(\"saffron\", \"milk\", \"hot green chili peppers\"...</td>\n      <td>3.0</td>\n      <td>1.0</td>\n      <td>c(\"Soak saffron in warm milk for 5 minutes and...</td>\n    </tr>\n    <tr>\n      <th>2</th>\n      <td>40</td>\n      <td>Best Lemonade</td>\n      <td>1566</td>\n      <td>Stephen Little</td>\n      <td>This is from one of my  first Good House Keepi...</td>\n      <td>c(\"https://img.sndimg.com/food/image/upload/w_...</td>\n      <td>Beverages</td>\n      <td>c(\"sugar\", \"lemons, rind of\", \"lemon, zest of\"...</td>\n      <td>4.5</td>\n      <td>10.0</td>\n      <td>c(\"Into a 1 quart Jar with tight fitting lid, ...</td>\n    </tr>\n    <tr>\n      <th>3</th>\n      <td>41</td>\n      <td>Carina's Tofu-Vegetable Kebabs</td>\n      <td>1586</td>\n      <td>Cyclopz</td>\n      <td>This dish is best prepared a day in advance to...</td>\n      <td>c(\"https://img.sndimg.com/food/image/upload/w_...</td>\n      <td>Soy/Tofu</td>\n      <td>c(\"extra firm tofu\", \"eggplant\", \"zucchini\", \"...</td>\n      <td>4.5</td>\n      <td>2.0</td>\n      <td>c(\"Drain the tofu, carefully squeezing out exc...</td>\n    </tr>\n    <tr>\n      <th>4</th>\n      <td>42</td>\n      <td>Cabbage Soup</td>\n      <td>1538</td>\n      <td>Duckie067</td>\n      <td>Make and share this Cabbage Soup recipe from F...</td>\n      <td>\"https://img.sndimg.com/food/image/upload/w_55...</td>\n      <td>Vegetable</td>\n      <td>c(\"plain tomato juice\", \"cabbage\", \"onion\", \"c...</td>\n      <td>4.5</td>\n      <td>11.0</td>\n      <td>c(\"Mix everything together and bring to a boil...</td>\n    </tr>\n    <tr>\n      <th>...</th>\n      <td>...</td>\n      <td>...</td>\n      <td>...</td>\n      <td>...</td>\n      <td>...</td>\n      <td>...</td>\n      <td>...</td>\n      <td>...</td>\n      <td>...</td>\n      <td>...</td>\n      <td>...</td>\n    </tr>\n    <tr>\n      <th>522512</th>\n      <td>541379</td>\n      <td>Meg's Fresh Ginger Gingerbread</td>\n      <td>2002090414</td>\n      <td>rdsxc</td>\n      <td>Make and share this Meg's Fresh Ginger Gingerb...</td>\n      <td>character(0)</td>\n      <td>Dessert</td>\n      <td>c(\"fresh ginger\", \"unsalted butter\", \"dark bro...</td>\n      <td>NaN</td>\n      <td>NaN</td>\n      <td>c(\"Preheat oven to 350&amp;deg;F Grease an 8x8 cak...</td>\n    </tr>\n    <tr>\n      <th>522513</th>\n      <td>541380</td>\n      <td>Roast Prime Rib au Poivre with Mixed Peppercorns</td>\n      <td>211566</td>\n      <td>Denver cooks</td>\n      <td>White, black, green, and pink peppercorns add ...</td>\n      <td>\"https://img.sndimg.com/food/image/upload/w_55...</td>\n      <td>Very Low Carbs</td>\n      <td>c(\"Dijon mustard\", \"garlic\", \"peppercorns\", \"s...</td>\n      <td>NaN</td>\n      <td>NaN</td>\n      <td>c(\"Position rack in center of oven and preheat...</td>\n    </tr>\n    <tr>\n      <th>522514</th>\n      <td>541381</td>\n      <td>Kirshwasser Ice Cream</td>\n      <td>2001131545</td>\n      <td>Jonathan F.</td>\n      <td>Make and share this Kirshwasser Ice Cream reci...</td>\n      <td>character(0)</td>\n      <td>Ice Cream</td>\n      <td>c(\"half-and-half\", \"heavy cream\", \"brandy\", \"s...</td>\n      <td>NaN</td>\n      <td>NaN</td>\n      <td>c(\"heat half and half and heavy cream to a sim...</td>\n    </tr>\n    <tr>\n      <th>522515</th>\n      <td>541382</td>\n      <td>Quick &amp; Easy Asian Cucumber Salmon Rolls</td>\n      <td>2001004241</td>\n      <td>CLUBFOODY</td>\n      <td>Extremely quick and easy to make, these are gr...</td>\n      <td>\"https://img.sndimg.com/food/image/upload/w_55...</td>\n      <td>Canadian</td>\n      <td>c(\"wasabi paste\", \"dill\", \"English cucumber\", ...</td>\n      <td>NaN</td>\n      <td>NaN</td>\n      <td>c(\"In a small bowl, combine mayo and wasabi pa...</td>\n    </tr>\n    <tr>\n      <th>522516</th>\n      <td>541383</td>\n      <td>Spicy Baked Scotch Eggs</td>\n      <td>188099</td>\n      <td>Chef LauraMD</td>\n      <td>Great way to have hard boiled eggs and crispy,...</td>\n      <td>character(0)</td>\n      <td>Breakfast</td>\n      <td>c(\"hard-boiled eggs\", \"breakfast sausage\", \"pa...</td>\n      <td>NaN</td>\n      <td>NaN</td>\n      <td>c(\"Mix sausage, panko, egg yolk and Wocestersh...</td>\n    </tr>\n  </tbody>\n</table>\n<p>522517 rows × 11 columns</p>\n</div>"
     },
     "execution_count": 297,
     "metadata": {},
     "output_type": "execute_result"
    }
   ],
   "source": [
    "df_recipe"
   ],
   "metadata": {
    "collapsed": false,
    "ExecuteTime": {
     "start_time": "2024-03-12T18:18:37.333849Z",
     "end_time": "2024-03-12T18:18:37.339538Z"
    }
   }
  },
  {
   "cell_type": "code",
   "execution_count": 298,
   "outputs": [],
   "source": [
    "name = df_recipe[\"Name\"]\n",
    "cleaned_name = name.apply(lambda s: s.translate(str.maketrans('','', string.punctuation + u'\\xa0')))\n",
    "cleaned_name = cleaned_name.apply(lambda s: s.lower())\n",
    "cleaned_name = cleaned_name.apply(lambda s: s.translate(str.maketrans(string.whitespace, ' ' * len(string.whitespace), '')))\n",
    "cleaned_name = cleaned_name.replace('', None)\n",
    "df_recipe[\"Name\"] = cleaned_name"
   ],
   "metadata": {
    "collapsed": false,
    "ExecuteTime": {
     "start_time": "2024-03-12T18:18:37.409499Z",
     "end_time": "2024-03-12T18:18:38.715854Z"
    }
   }
  },
  {
   "cell_type": "code",
   "execution_count": 299,
   "outputs": [
    {
     "data": {
      "text/plain": "        RecipeId                                              Name  \\\n0             38                  lowfat berry blue frozen dessert   \n1             39                                           biryani   \n2             40                                     best lemonade   \n3             41                      carinas tofuvegetable kebabs   \n4             42                                      cabbage soup   \n...          ...                                               ...   \n522512    541379                     megs fresh ginger gingerbread   \n522513    541380  roast prime rib au poivre with mixed peppercorns   \n522514    541381                             kirshwasser ice cream   \n522515    541382           quick  easy asian cucumber salmon rolls   \n522516    541383                           spicy baked scotch eggs   \n\n          AuthorId      AuthorName  \\\n0             1533          Dancer   \n1             1567        elly9812   \n2             1566  Stephen Little   \n3             1586         Cyclopz   \n4             1538       Duckie067   \n...            ...             ...   \n522512  2002090414           rdsxc   \n522513      211566    Denver cooks   \n522514  2001131545     Jonathan F.   \n522515  2001004241       CLUBFOODY   \n522516      188099    Chef LauraMD   \n\n                                              Description  \\\n0       Make and share this Low-Fat Berry Blue Frozen ...   \n1       Make and share this Biryani recipe from Food.com.   \n2       This is from one of my  first Good House Keepi...   \n3       This dish is best prepared a day in advance to...   \n4       Make and share this Cabbage Soup recipe from F...   \n...                                                   ...   \n522512  Make and share this Meg's Fresh Ginger Gingerb...   \n522513  White, black, green, and pink peppercorns add ...   \n522514  Make and share this Kirshwasser Ice Cream reci...   \n522515  Extremely quick and easy to make, these are gr...   \n522516  Great way to have hard boiled eggs and crispy,...   \n\n                                                   Images   RecipeCategory  \\\n0       c(\"https://img.sndimg.com/food/image/upload/w_...  Frozen Desserts   \n1       c(\"https://img.sndimg.com/food/image/upload/w_...   Chicken Breast   \n2       c(\"https://img.sndimg.com/food/image/upload/w_...        Beverages   \n3       c(\"https://img.sndimg.com/food/image/upload/w_...         Soy/Tofu   \n4       \"https://img.sndimg.com/food/image/upload/w_55...        Vegetable   \n...                                                   ...              ...   \n522512                                       character(0)          Dessert   \n522513  \"https://img.sndimg.com/food/image/upload/w_55...   Very Low Carbs   \n522514                                       character(0)        Ice Cream   \n522515  \"https://img.sndimg.com/food/image/upload/w_55...         Canadian   \n522516                                       character(0)        Breakfast   \n\n                                    RecipeIngredientParts  AggregatedRating  \\\n0       c(\"blueberries\", \"granulated sugar\", \"vanilla ...               4.5   \n1       c(\"saffron\", \"milk\", \"hot green chili peppers\"...               3.0   \n2       c(\"sugar\", \"lemons, rind of\", \"lemon, zest of\"...               4.5   \n3       c(\"extra firm tofu\", \"eggplant\", \"zucchini\", \"...               4.5   \n4       c(\"plain tomato juice\", \"cabbage\", \"onion\", \"c...               4.5   \n...                                                   ...               ...   \n522512  c(\"fresh ginger\", \"unsalted butter\", \"dark bro...               NaN   \n522513  c(\"Dijon mustard\", \"garlic\", \"peppercorns\", \"s...               NaN   \n522514  c(\"half-and-half\", \"heavy cream\", \"brandy\", \"s...               NaN   \n522515  c(\"wasabi paste\", \"dill\", \"English cucumber\", ...               NaN   \n522516  c(\"hard-boiled eggs\", \"breakfast sausage\", \"pa...               NaN   \n\n        ReviewCount                                 RecipeInstructions  \n0               4.0  c(\"Toss 2 cups berries with sugar.\", \"Let stan...  \n1               1.0  c(\"Soak saffron in warm milk for 5 minutes and...  \n2              10.0  c(\"Into a 1 quart Jar with tight fitting lid, ...  \n3               2.0  c(\"Drain the tofu, carefully squeezing out exc...  \n4              11.0  c(\"Mix everything together and bring to a boil...  \n...             ...                                                ...  \n522512          NaN  c(\"Preheat oven to 350&deg;F Grease an 8x8 cak...  \n522513          NaN  c(\"Position rack in center of oven and preheat...  \n522514          NaN  c(\"heat half and half and heavy cream to a sim...  \n522515          NaN  c(\"In a small bowl, combine mayo and wasabi pa...  \n522516          NaN  c(\"Mix sausage, panko, egg yolk and Wocestersh...  \n\n[522517 rows x 11 columns]",
      "text/html": "<div>\n<style scoped>\n    .dataframe tbody tr th:only-of-type {\n        vertical-align: middle;\n    }\n\n    .dataframe tbody tr th {\n        vertical-align: top;\n    }\n\n    .dataframe thead th {\n        text-align: right;\n    }\n</style>\n<table border=\"1\" class=\"dataframe\">\n  <thead>\n    <tr style=\"text-align: right;\">\n      <th></th>\n      <th>RecipeId</th>\n      <th>Name</th>\n      <th>AuthorId</th>\n      <th>AuthorName</th>\n      <th>Description</th>\n      <th>Images</th>\n      <th>RecipeCategory</th>\n      <th>RecipeIngredientParts</th>\n      <th>AggregatedRating</th>\n      <th>ReviewCount</th>\n      <th>RecipeInstructions</th>\n    </tr>\n  </thead>\n  <tbody>\n    <tr>\n      <th>0</th>\n      <td>38</td>\n      <td>lowfat berry blue frozen dessert</td>\n      <td>1533</td>\n      <td>Dancer</td>\n      <td>Make and share this Low-Fat Berry Blue Frozen ...</td>\n      <td>c(\"https://img.sndimg.com/food/image/upload/w_...</td>\n      <td>Frozen Desserts</td>\n      <td>c(\"blueberries\", \"granulated sugar\", \"vanilla ...</td>\n      <td>4.5</td>\n      <td>4.0</td>\n      <td>c(\"Toss 2 cups berries with sugar.\", \"Let stan...</td>\n    </tr>\n    <tr>\n      <th>1</th>\n      <td>39</td>\n      <td>biryani</td>\n      <td>1567</td>\n      <td>elly9812</td>\n      <td>Make and share this Biryani recipe from Food.com.</td>\n      <td>c(\"https://img.sndimg.com/food/image/upload/w_...</td>\n      <td>Chicken Breast</td>\n      <td>c(\"saffron\", \"milk\", \"hot green chili peppers\"...</td>\n      <td>3.0</td>\n      <td>1.0</td>\n      <td>c(\"Soak saffron in warm milk for 5 minutes and...</td>\n    </tr>\n    <tr>\n      <th>2</th>\n      <td>40</td>\n      <td>best lemonade</td>\n      <td>1566</td>\n      <td>Stephen Little</td>\n      <td>This is from one of my  first Good House Keepi...</td>\n      <td>c(\"https://img.sndimg.com/food/image/upload/w_...</td>\n      <td>Beverages</td>\n      <td>c(\"sugar\", \"lemons, rind of\", \"lemon, zest of\"...</td>\n      <td>4.5</td>\n      <td>10.0</td>\n      <td>c(\"Into a 1 quart Jar with tight fitting lid, ...</td>\n    </tr>\n    <tr>\n      <th>3</th>\n      <td>41</td>\n      <td>carinas tofuvegetable kebabs</td>\n      <td>1586</td>\n      <td>Cyclopz</td>\n      <td>This dish is best prepared a day in advance to...</td>\n      <td>c(\"https://img.sndimg.com/food/image/upload/w_...</td>\n      <td>Soy/Tofu</td>\n      <td>c(\"extra firm tofu\", \"eggplant\", \"zucchini\", \"...</td>\n      <td>4.5</td>\n      <td>2.0</td>\n      <td>c(\"Drain the tofu, carefully squeezing out exc...</td>\n    </tr>\n    <tr>\n      <th>4</th>\n      <td>42</td>\n      <td>cabbage soup</td>\n      <td>1538</td>\n      <td>Duckie067</td>\n      <td>Make and share this Cabbage Soup recipe from F...</td>\n      <td>\"https://img.sndimg.com/food/image/upload/w_55...</td>\n      <td>Vegetable</td>\n      <td>c(\"plain tomato juice\", \"cabbage\", \"onion\", \"c...</td>\n      <td>4.5</td>\n      <td>11.0</td>\n      <td>c(\"Mix everything together and bring to a boil...</td>\n    </tr>\n    <tr>\n      <th>...</th>\n      <td>...</td>\n      <td>...</td>\n      <td>...</td>\n      <td>...</td>\n      <td>...</td>\n      <td>...</td>\n      <td>...</td>\n      <td>...</td>\n      <td>...</td>\n      <td>...</td>\n      <td>...</td>\n    </tr>\n    <tr>\n      <th>522512</th>\n      <td>541379</td>\n      <td>megs fresh ginger gingerbread</td>\n      <td>2002090414</td>\n      <td>rdsxc</td>\n      <td>Make and share this Meg's Fresh Ginger Gingerb...</td>\n      <td>character(0)</td>\n      <td>Dessert</td>\n      <td>c(\"fresh ginger\", \"unsalted butter\", \"dark bro...</td>\n      <td>NaN</td>\n      <td>NaN</td>\n      <td>c(\"Preheat oven to 350&amp;deg;F Grease an 8x8 cak...</td>\n    </tr>\n    <tr>\n      <th>522513</th>\n      <td>541380</td>\n      <td>roast prime rib au poivre with mixed peppercorns</td>\n      <td>211566</td>\n      <td>Denver cooks</td>\n      <td>White, black, green, and pink peppercorns add ...</td>\n      <td>\"https://img.sndimg.com/food/image/upload/w_55...</td>\n      <td>Very Low Carbs</td>\n      <td>c(\"Dijon mustard\", \"garlic\", \"peppercorns\", \"s...</td>\n      <td>NaN</td>\n      <td>NaN</td>\n      <td>c(\"Position rack in center of oven and preheat...</td>\n    </tr>\n    <tr>\n      <th>522514</th>\n      <td>541381</td>\n      <td>kirshwasser ice cream</td>\n      <td>2001131545</td>\n      <td>Jonathan F.</td>\n      <td>Make and share this Kirshwasser Ice Cream reci...</td>\n      <td>character(0)</td>\n      <td>Ice Cream</td>\n      <td>c(\"half-and-half\", \"heavy cream\", \"brandy\", \"s...</td>\n      <td>NaN</td>\n      <td>NaN</td>\n      <td>c(\"heat half and half and heavy cream to a sim...</td>\n    </tr>\n    <tr>\n      <th>522515</th>\n      <td>541382</td>\n      <td>quick  easy asian cucumber salmon rolls</td>\n      <td>2001004241</td>\n      <td>CLUBFOODY</td>\n      <td>Extremely quick and easy to make, these are gr...</td>\n      <td>\"https://img.sndimg.com/food/image/upload/w_55...</td>\n      <td>Canadian</td>\n      <td>c(\"wasabi paste\", \"dill\", \"English cucumber\", ...</td>\n      <td>NaN</td>\n      <td>NaN</td>\n      <td>c(\"In a small bowl, combine mayo and wasabi pa...</td>\n    </tr>\n    <tr>\n      <th>522516</th>\n      <td>541383</td>\n      <td>spicy baked scotch eggs</td>\n      <td>188099</td>\n      <td>Chef LauraMD</td>\n      <td>Great way to have hard boiled eggs and crispy,...</td>\n      <td>character(0)</td>\n      <td>Breakfast</td>\n      <td>c(\"hard-boiled eggs\", \"breakfast sausage\", \"pa...</td>\n      <td>NaN</td>\n      <td>NaN</td>\n      <td>c(\"Mix sausage, panko, egg yolk and Wocestersh...</td>\n    </tr>\n  </tbody>\n</table>\n<p>522517 rows × 11 columns</p>\n</div>"
     },
     "execution_count": 299,
     "metadata": {},
     "output_type": "execute_result"
    }
   ],
   "source": [
    "df_recipe"
   ],
   "metadata": {
    "collapsed": false,
    "ExecuteTime": {
     "start_time": "2024-03-12T18:18:38.720648Z",
     "end_time": "2024-03-12T18:18:38.722876Z"
    }
   }
  },
  {
   "cell_type": "code",
   "execution_count": 300,
   "outputs": [
    {
     "data": {
      "text/plain": "0         \"toss 2 cups berries with sugar.\", \"let stand ...\n1         \"soak saffron in warm milk for 5 minutes and p...\n2         \"into a 1 quart jar with tight fitting lid, pu...\n3         \"drain the tofu, carefully squeezing out exces...\n4         \"mix everything together and bring to a boil.\"...\n                                ...                        \n522512    \"preheat oven to 350&deg;f grease an 8x8 cake ...\n522513    \"position rack in center of oven and preheat t...\n522514    \"heat half and half and heavy cream to a simme...\n522515    \"in a small bowl, combine mayo and wasabi past...\n522516    \"mix sausage, panko, egg yolk and wocestershir...\nName: RecipeInstructions, Length: 522517, dtype: object"
     },
     "execution_count": 300,
     "metadata": {},
     "output_type": "execute_result"
    }
   ],
   "source": [
    "cook_process = df_recipe[\"RecipeInstructions\"]\n",
    "cleaned_cook_process = cook_process.replace('character(0)', None).fillna('')\n",
    "cleaned_cook_process = cleaned_cook_process.replace('\"\"', None).fillna('')\n",
    "cleaned_cook_process = cleaned_cook_process.apply(lambda s: s.replace('c(', '').replace(')', ''))\n",
    "cleaned_cook_process = cleaned_cook_process.apply(lambda s: s.lower())\n",
    "\n",
    "df_recipe[\"RecipeInstructions\"] = cleaned_cook_process\n",
    "df_recipe[\"RecipeInstructions\"]"
   ],
   "metadata": {
    "collapsed": false,
    "ExecuteTime": {
     "start_time": "2024-03-12T18:18:38.742370Z",
     "end_time": "2024-03-12T18:18:40.339150Z"
    }
   }
  },
  {
   "cell_type": "code",
   "execution_count": 301,
   "outputs": [
    {
     "data": {
      "text/plain": "0         \"blueberries\", \"granulated sugar\", \"vanilla yo...\n1         \"saffron\", \"milk\", \"hot green chili peppers\", ...\n2         \"sugar\", \"lemons, rind of\", \"lemon, zest of\", ...\n3         \"extra firm tofu\", \"eggplant\", \"zucchini\", \"mu...\n4         \"plain tomato juice\", \"cabbage\", \"onion\", \"car...\n                                ...                        \n522512    \"fresh ginger\", \"unsalted butter\", \"dark brown...\n522513    \"dijon mustard\", \"garlic\", \"peppercorns\", \"sha...\n522514    \"half-and-half\", \"heavy cream\", \"brandy\", \"sugar\"\n522515    \"wasabi paste\", \"dill\", \"english cucumber\", \"s...\n522516    \"hard-boiled eggs\", \"breakfast sausage\", \"pank...\nName: RecipeIngredientParts, Length: 522517, dtype: object"
     },
     "execution_count": 301,
     "metadata": {},
     "output_type": "execute_result"
    }
   ],
   "source": [
    "ingredient = df_recipe[\"RecipeIngredientParts\"]\n",
    "cleaned_ingredient = df_recipe[\"RecipeIngredientParts\"].replace('character(0)', None).fillna('')\n",
    "cleaned_ingredient = cleaned_ingredient.apply(lambda s: s.replace('c(', '').replace(')', ''))\n",
    "cleaned_ingredient = cleaned_ingredient.apply(lambda s: s.lower())\n",
    "df_recipe[\"RecipeIngredientParts\"] = cleaned_ingredient\n",
    "df_recipe[\"RecipeIngredientParts\"]"
   ],
   "metadata": {
    "collapsed": false,
    "ExecuteTime": {
     "start_time": "2024-03-12T18:18:40.352345Z",
     "end_time": "2024-03-12T18:18:40.704450Z"
    }
   }
  },
  {
   "cell_type": "code",
   "execution_count": 302,
   "outputs": [],
   "source": [
    "images = df_recipe['Images']\n",
    "cleaned_images = images.replace('character(0)', None)\n",
    "# cleaned_images = images.apply(lambda s: re.sub(r'[c()\"]', '', s))\n",
    "cleaned_images = cleaned_images.str.extract(r'c\\((.*)\\)')\n",
    "df_recipe['Images'] = cleaned_images\n"
   ],
   "metadata": {
    "collapsed": false,
    "ExecuteTime": {
     "start_time": "2024-03-12T18:18:40.700685Z",
     "end_time": "2024-03-12T18:18:40.969177Z"
    }
   }
  },
  {
   "cell_type": "code",
   "execution_count": 303,
   "outputs": [
    {
     "data": {
      "text/plain": "        RecipeId                                              Name  \\\n0             38                  lowfat berry blue frozen dessert   \n1             39                                           biryani   \n2             40                                     best lemonade   \n3             41                      carinas tofuvegetable kebabs   \n4             42                                      cabbage soup   \n...          ...                                               ...   \n522512    541379                     megs fresh ginger gingerbread   \n522513    541380  roast prime rib au poivre with mixed peppercorns   \n522514    541381                             kirshwasser ice cream   \n522515    541382           quick  easy asian cucumber salmon rolls   \n522516    541383                           spicy baked scotch eggs   \n\n          AuthorId      AuthorName  \\\n0             1533          Dancer   \n1             1567        elly9812   \n2             1566  Stephen Little   \n3             1586         Cyclopz   \n4             1538       Duckie067   \n...            ...             ...   \n522512  2002090414           rdsxc   \n522513      211566    Denver cooks   \n522514  2001131545     Jonathan F.   \n522515  2001004241       CLUBFOODY   \n522516      188099    Chef LauraMD   \n\n                                              Description  \\\n0       Make and share this Low-Fat Berry Blue Frozen ...   \n1       Make and share this Biryani recipe from Food.com.   \n2       This is from one of my  first Good House Keepi...   \n3       This dish is best prepared a day in advance to...   \n4       Make and share this Cabbage Soup recipe from F...   \n...                                                   ...   \n522512  Make and share this Meg's Fresh Ginger Gingerb...   \n522513  White, black, green, and pink peppercorns add ...   \n522514  Make and share this Kirshwasser Ice Cream reci...   \n522515  Extremely quick and easy to make, these are gr...   \n522516  Great way to have hard boiled eggs and crispy,...   \n\n                                                   Images   RecipeCategory  \\\n0                                                     NaN  Frozen Desserts   \n1       \"https://img.sndimg.com/food/image/upload/w_55...   Chicken Breast   \n2       \"https://img.sndimg.com/food/image/upload/w_55...        Beverages   \n3       \"https://img.sndimg.com/food/image/upload/w_55...         Soy/Tofu   \n4                                                     NaN        Vegetable   \n...                                                   ...              ...   \n522512                                                NaN          Dessert   \n522513                                                NaN   Very Low Carbs   \n522514                                                NaN        Ice Cream   \n522515                                                NaN         Canadian   \n522516                                                NaN        Breakfast   \n\n                                    RecipeIngredientParts  AggregatedRating  \\\n0       \"blueberries\", \"granulated sugar\", \"vanilla yo...               4.5   \n1       \"saffron\", \"milk\", \"hot green chili peppers\", ...               3.0   \n2       \"sugar\", \"lemons, rind of\", \"lemon, zest of\", ...               4.5   \n3       \"extra firm tofu\", \"eggplant\", \"zucchini\", \"mu...               4.5   \n4       \"plain tomato juice\", \"cabbage\", \"onion\", \"car...               4.5   \n...                                                   ...               ...   \n522512  \"fresh ginger\", \"unsalted butter\", \"dark brown...               NaN   \n522513  \"dijon mustard\", \"garlic\", \"peppercorns\", \"sha...               NaN   \n522514  \"half-and-half\", \"heavy cream\", \"brandy\", \"sugar\"               NaN   \n522515  \"wasabi paste\", \"dill\", \"english cucumber\", \"s...               NaN   \n522516  \"hard-boiled eggs\", \"breakfast sausage\", \"pank...               NaN   \n\n        ReviewCount                                 RecipeInstructions  \n0               4.0  \"toss 2 cups berries with sugar.\", \"let stand ...  \n1               1.0  \"soak saffron in warm milk for 5 minutes and p...  \n2              10.0  \"into a 1 quart jar with tight fitting lid, pu...  \n3               2.0  \"drain the tofu, carefully squeezing out exces...  \n4              11.0  \"mix everything together and bring to a boil.\"...  \n...             ...                                                ...  \n522512          NaN  \"preheat oven to 350&deg;f grease an 8x8 cake ...  \n522513          NaN  \"position rack in center of oven and preheat t...  \n522514          NaN  \"heat half and half and heavy cream to a simme...  \n522515          NaN  \"in a small bowl, combine mayo and wasabi past...  \n522516          NaN  \"mix sausage, panko, egg yolk and wocestershir...  \n\n[522517 rows x 11 columns]",
      "text/html": "<div>\n<style scoped>\n    .dataframe tbody tr th:only-of-type {\n        vertical-align: middle;\n    }\n\n    .dataframe tbody tr th {\n        vertical-align: top;\n    }\n\n    .dataframe thead th {\n        text-align: right;\n    }\n</style>\n<table border=\"1\" class=\"dataframe\">\n  <thead>\n    <tr style=\"text-align: right;\">\n      <th></th>\n      <th>RecipeId</th>\n      <th>Name</th>\n      <th>AuthorId</th>\n      <th>AuthorName</th>\n      <th>Description</th>\n      <th>Images</th>\n      <th>RecipeCategory</th>\n      <th>RecipeIngredientParts</th>\n      <th>AggregatedRating</th>\n      <th>ReviewCount</th>\n      <th>RecipeInstructions</th>\n    </tr>\n  </thead>\n  <tbody>\n    <tr>\n      <th>0</th>\n      <td>38</td>\n      <td>lowfat berry blue frozen dessert</td>\n      <td>1533</td>\n      <td>Dancer</td>\n      <td>Make and share this Low-Fat Berry Blue Frozen ...</td>\n      <td>NaN</td>\n      <td>Frozen Desserts</td>\n      <td>\"blueberries\", \"granulated sugar\", \"vanilla yo...</td>\n      <td>4.5</td>\n      <td>4.0</td>\n      <td>\"toss 2 cups berries with sugar.\", \"let stand ...</td>\n    </tr>\n    <tr>\n      <th>1</th>\n      <td>39</td>\n      <td>biryani</td>\n      <td>1567</td>\n      <td>elly9812</td>\n      <td>Make and share this Biryani recipe from Food.com.</td>\n      <td>\"https://img.sndimg.com/food/image/upload/w_55...</td>\n      <td>Chicken Breast</td>\n      <td>\"saffron\", \"milk\", \"hot green chili peppers\", ...</td>\n      <td>3.0</td>\n      <td>1.0</td>\n      <td>\"soak saffron in warm milk for 5 minutes and p...</td>\n    </tr>\n    <tr>\n      <th>2</th>\n      <td>40</td>\n      <td>best lemonade</td>\n      <td>1566</td>\n      <td>Stephen Little</td>\n      <td>This is from one of my  first Good House Keepi...</td>\n      <td>\"https://img.sndimg.com/food/image/upload/w_55...</td>\n      <td>Beverages</td>\n      <td>\"sugar\", \"lemons, rind of\", \"lemon, zest of\", ...</td>\n      <td>4.5</td>\n      <td>10.0</td>\n      <td>\"into a 1 quart jar with tight fitting lid, pu...</td>\n    </tr>\n    <tr>\n      <th>3</th>\n      <td>41</td>\n      <td>carinas tofuvegetable kebabs</td>\n      <td>1586</td>\n      <td>Cyclopz</td>\n      <td>This dish is best prepared a day in advance to...</td>\n      <td>\"https://img.sndimg.com/food/image/upload/w_55...</td>\n      <td>Soy/Tofu</td>\n      <td>\"extra firm tofu\", \"eggplant\", \"zucchini\", \"mu...</td>\n      <td>4.5</td>\n      <td>2.0</td>\n      <td>\"drain the tofu, carefully squeezing out exces...</td>\n    </tr>\n    <tr>\n      <th>4</th>\n      <td>42</td>\n      <td>cabbage soup</td>\n      <td>1538</td>\n      <td>Duckie067</td>\n      <td>Make and share this Cabbage Soup recipe from F...</td>\n      <td>NaN</td>\n      <td>Vegetable</td>\n      <td>\"plain tomato juice\", \"cabbage\", \"onion\", \"car...</td>\n      <td>4.5</td>\n      <td>11.0</td>\n      <td>\"mix everything together and bring to a boil.\"...</td>\n    </tr>\n    <tr>\n      <th>...</th>\n      <td>...</td>\n      <td>...</td>\n      <td>...</td>\n      <td>...</td>\n      <td>...</td>\n      <td>...</td>\n      <td>...</td>\n      <td>...</td>\n      <td>...</td>\n      <td>...</td>\n      <td>...</td>\n    </tr>\n    <tr>\n      <th>522512</th>\n      <td>541379</td>\n      <td>megs fresh ginger gingerbread</td>\n      <td>2002090414</td>\n      <td>rdsxc</td>\n      <td>Make and share this Meg's Fresh Ginger Gingerb...</td>\n      <td>NaN</td>\n      <td>Dessert</td>\n      <td>\"fresh ginger\", \"unsalted butter\", \"dark brown...</td>\n      <td>NaN</td>\n      <td>NaN</td>\n      <td>\"preheat oven to 350&amp;deg;f grease an 8x8 cake ...</td>\n    </tr>\n    <tr>\n      <th>522513</th>\n      <td>541380</td>\n      <td>roast prime rib au poivre with mixed peppercorns</td>\n      <td>211566</td>\n      <td>Denver cooks</td>\n      <td>White, black, green, and pink peppercorns add ...</td>\n      <td>NaN</td>\n      <td>Very Low Carbs</td>\n      <td>\"dijon mustard\", \"garlic\", \"peppercorns\", \"sha...</td>\n      <td>NaN</td>\n      <td>NaN</td>\n      <td>\"position rack in center of oven and preheat t...</td>\n    </tr>\n    <tr>\n      <th>522514</th>\n      <td>541381</td>\n      <td>kirshwasser ice cream</td>\n      <td>2001131545</td>\n      <td>Jonathan F.</td>\n      <td>Make and share this Kirshwasser Ice Cream reci...</td>\n      <td>NaN</td>\n      <td>Ice Cream</td>\n      <td>\"half-and-half\", \"heavy cream\", \"brandy\", \"sugar\"</td>\n      <td>NaN</td>\n      <td>NaN</td>\n      <td>\"heat half and half and heavy cream to a simme...</td>\n    </tr>\n    <tr>\n      <th>522515</th>\n      <td>541382</td>\n      <td>quick  easy asian cucumber salmon rolls</td>\n      <td>2001004241</td>\n      <td>CLUBFOODY</td>\n      <td>Extremely quick and easy to make, these are gr...</td>\n      <td>NaN</td>\n      <td>Canadian</td>\n      <td>\"wasabi paste\", \"dill\", \"english cucumber\", \"s...</td>\n      <td>NaN</td>\n      <td>NaN</td>\n      <td>\"in a small bowl, combine mayo and wasabi past...</td>\n    </tr>\n    <tr>\n      <th>522516</th>\n      <td>541383</td>\n      <td>spicy baked scotch eggs</td>\n      <td>188099</td>\n      <td>Chef LauraMD</td>\n      <td>Great way to have hard boiled eggs and crispy,...</td>\n      <td>NaN</td>\n      <td>Breakfast</td>\n      <td>\"hard-boiled eggs\", \"breakfast sausage\", \"pank...</td>\n      <td>NaN</td>\n      <td>NaN</td>\n      <td>\"mix sausage, panko, egg yolk and wocestershir...</td>\n    </tr>\n  </tbody>\n</table>\n<p>522517 rows × 11 columns</p>\n</div>"
     },
     "execution_count": 303,
     "metadata": {},
     "output_type": "execute_result"
    }
   ],
   "source": [
    "df_recipe"
   ],
   "metadata": {
    "collapsed": false,
    "ExecuteTime": {
     "start_time": "2024-03-12T18:18:40.976262Z",
     "end_time": "2024-03-12T18:18:40.978401Z"
    }
   }
  },
  {
   "cell_type": "code",
   "execution_count": 304,
   "outputs": [],
   "source": [
    "output_dir = Path(os.path.abspath('')) /\"data\" / \"processed\"\n",
    "output_file = open(str(output_dir) + \"/cleaned_df.pkl\", \"wb\")\n",
    "pickle.dump(df_recipe, output_file)"
   ],
   "metadata": {
    "collapsed": false,
    "ExecuteTime": {
     "start_time": "2024-03-12T18:18:40.978952Z",
     "end_time": "2024-03-12T18:18:41.816320Z"
    }
   }
  },
  {
   "cell_type": "code",
   "execution_count": 274,
   "outputs": [],
   "source": [
    "df_review = pd.read_csv('data/raw/reviews.csv', encoding='UTF-8')"
   ],
   "metadata": {
    "collapsed": false,
    "ExecuteTime": {
     "start_time": "2024-03-12T18:00:18.315733Z",
     "end_time": "2024-03-12T18:00:22.899985Z"
    }
   }
  },
  {
   "cell_type": "code",
   "execution_count": 275,
   "outputs": [
    {
     "data": {
      "text/plain": "         ReviewId  RecipeId    AuthorId        AuthorName  Rating  \\\n0               2       992        2008         gayg msft       5   \n1               7      4384        1634     Bill Hilbrich       4   \n2               9      4523        2046  Gay Gilmore ckpt       2   \n3              13      7435        1773     Malarkey Test       5   \n4              14        44        2085        Tony Small       5   \n...           ...       ...         ...               ...     ...   \n1401977   2090339    139499  2002080368       terrylbiggs       2   \n1401978   2090340    148484    41805321        rogerberry       5   \n1401979   2090341    264191  2002901848    Reiketsukan 6.       5   \n1401980   2090345    411791  2002901938            Sue M.       5   \n1401981   2090347    352686  2002812127        dede25cory       5   \n\n                                                    Review  \\\n0             better than any you can get at a restaurant!   \n1        I cut back on the mayo, and made up the differ...   \n2        i think i did something wrong because i could ...   \n3        easily the best i have ever had.  juicy flavor...   \n4                                       An excellent dish.   \n...                                                    ...   \n1401977  I was disappointed. I couldn't wait to make th...   \n1401978  Nothing to drain. And I don’t heat up the liqu...   \n1401979  Good base recipe for someone to start with. I ...   \n1401980  Thank you so much for this amazing recipe! I l...   \n1401981  I can't say enough about this recipe.... the b...   \n\n                DateSubmitted          DateModified  \n0        2000-01-25T21:44:00Z  2000-01-25T21:44:00Z  \n1        2001-10-17T16:49:59Z  2001-10-17T16:49:59Z  \n2        2000-02-25T09:00:00Z  2000-02-25T09:00:00Z  \n3        2000-03-13T21:15:00Z  2000-03-13T21:15:00Z  \n4        2000-03-28T12:51:00Z  2000-03-28T12:51:00Z  \n...                       ...                   ...  \n1401977  2020-12-27T23:57:54Z  2020-12-27T23:57:54Z  \n1401978  2020-12-28T00:44:42Z  2020-12-28T00:44:42Z  \n1401979  2020-12-28T01:04:43Z  2020-12-28T01:04:43Z  \n1401980  2020-12-28T03:07:10Z  2020-12-28T03:07:10Z  \n1401981  2020-12-28T03:23:48Z  2020-12-28T03:23:48Z  \n\n[1401982 rows x 8 columns]",
      "text/html": "<div>\n<style scoped>\n    .dataframe tbody tr th:only-of-type {\n        vertical-align: middle;\n    }\n\n    .dataframe tbody tr th {\n        vertical-align: top;\n    }\n\n    .dataframe thead th {\n        text-align: right;\n    }\n</style>\n<table border=\"1\" class=\"dataframe\">\n  <thead>\n    <tr style=\"text-align: right;\">\n      <th></th>\n      <th>ReviewId</th>\n      <th>RecipeId</th>\n      <th>AuthorId</th>\n      <th>AuthorName</th>\n      <th>Rating</th>\n      <th>Review</th>\n      <th>DateSubmitted</th>\n      <th>DateModified</th>\n    </tr>\n  </thead>\n  <tbody>\n    <tr>\n      <th>0</th>\n      <td>2</td>\n      <td>992</td>\n      <td>2008</td>\n      <td>gayg msft</td>\n      <td>5</td>\n      <td>better than any you can get at a restaurant!</td>\n      <td>2000-01-25T21:44:00Z</td>\n      <td>2000-01-25T21:44:00Z</td>\n    </tr>\n    <tr>\n      <th>1</th>\n      <td>7</td>\n      <td>4384</td>\n      <td>1634</td>\n      <td>Bill Hilbrich</td>\n      <td>4</td>\n      <td>I cut back on the mayo, and made up the differ...</td>\n      <td>2001-10-17T16:49:59Z</td>\n      <td>2001-10-17T16:49:59Z</td>\n    </tr>\n    <tr>\n      <th>2</th>\n      <td>9</td>\n      <td>4523</td>\n      <td>2046</td>\n      <td>Gay Gilmore ckpt</td>\n      <td>2</td>\n      <td>i think i did something wrong because i could ...</td>\n      <td>2000-02-25T09:00:00Z</td>\n      <td>2000-02-25T09:00:00Z</td>\n    </tr>\n    <tr>\n      <th>3</th>\n      <td>13</td>\n      <td>7435</td>\n      <td>1773</td>\n      <td>Malarkey Test</td>\n      <td>5</td>\n      <td>easily the best i have ever had.  juicy flavor...</td>\n      <td>2000-03-13T21:15:00Z</td>\n      <td>2000-03-13T21:15:00Z</td>\n    </tr>\n    <tr>\n      <th>4</th>\n      <td>14</td>\n      <td>44</td>\n      <td>2085</td>\n      <td>Tony Small</td>\n      <td>5</td>\n      <td>An excellent dish.</td>\n      <td>2000-03-28T12:51:00Z</td>\n      <td>2000-03-28T12:51:00Z</td>\n    </tr>\n    <tr>\n      <th>...</th>\n      <td>...</td>\n      <td>...</td>\n      <td>...</td>\n      <td>...</td>\n      <td>...</td>\n      <td>...</td>\n      <td>...</td>\n      <td>...</td>\n    </tr>\n    <tr>\n      <th>1401977</th>\n      <td>2090339</td>\n      <td>139499</td>\n      <td>2002080368</td>\n      <td>terrylbiggs</td>\n      <td>2</td>\n      <td>I was disappointed. I couldn't wait to make th...</td>\n      <td>2020-12-27T23:57:54Z</td>\n      <td>2020-12-27T23:57:54Z</td>\n    </tr>\n    <tr>\n      <th>1401978</th>\n      <td>2090340</td>\n      <td>148484</td>\n      <td>41805321</td>\n      <td>rogerberry</td>\n      <td>5</td>\n      <td>Nothing to drain. And I don’t heat up the liqu...</td>\n      <td>2020-12-28T00:44:42Z</td>\n      <td>2020-12-28T00:44:42Z</td>\n    </tr>\n    <tr>\n      <th>1401979</th>\n      <td>2090341</td>\n      <td>264191</td>\n      <td>2002901848</td>\n      <td>Reiketsukan 6.</td>\n      <td>5</td>\n      <td>Good base recipe for someone to start with. I ...</td>\n      <td>2020-12-28T01:04:43Z</td>\n      <td>2020-12-28T01:04:43Z</td>\n    </tr>\n    <tr>\n      <th>1401980</th>\n      <td>2090345</td>\n      <td>411791</td>\n      <td>2002901938</td>\n      <td>Sue M.</td>\n      <td>5</td>\n      <td>Thank you so much for this amazing recipe! I l...</td>\n      <td>2020-12-28T03:07:10Z</td>\n      <td>2020-12-28T03:07:10Z</td>\n    </tr>\n    <tr>\n      <th>1401981</th>\n      <td>2090347</td>\n      <td>352686</td>\n      <td>2002812127</td>\n      <td>dede25cory</td>\n      <td>5</td>\n      <td>I can't say enough about this recipe.... the b...</td>\n      <td>2020-12-28T03:23:48Z</td>\n      <td>2020-12-28T03:23:48Z</td>\n    </tr>\n  </tbody>\n</table>\n<p>1401982 rows × 8 columns</p>\n</div>"
     },
     "execution_count": 275,
     "metadata": {},
     "output_type": "execute_result"
    }
   ],
   "source": [
    "df_review"
   ],
   "metadata": {
    "collapsed": false,
    "ExecuteTime": {
     "start_time": "2024-03-12T18:00:22.903526Z",
     "end_time": "2024-03-12T18:00:22.905606Z"
    }
   }
  },
  {
   "cell_type": "code",
   "execution_count": 276,
   "outputs": [
    {
     "ename": "AttributeError",
     "evalue": "'float' object has no attribute 'translate'",
     "output_type": "error",
     "traceback": [
      "\u001B[0;31m---------------------------------------------------------------------------\u001B[0m",
      "\u001B[0;31mAttributeError\u001B[0m                            Traceback (most recent call last)",
      "Cell \u001B[0;32mIn[276], line 2\u001B[0m\n\u001B[1;32m      1\u001B[0m raw_review \u001B[38;5;241m=\u001B[39m df_review[\u001B[38;5;124m'\u001B[39m\u001B[38;5;124mReview\u001B[39m\u001B[38;5;124m'\u001B[39m]\n\u001B[0;32m----> 2\u001B[0m cleaned_review \u001B[38;5;241m=\u001B[39m \u001B[43mraw_review\u001B[49m\u001B[38;5;241;43m.\u001B[39;49m\u001B[43mapply\u001B[49m\u001B[43m(\u001B[49m\u001B[38;5;28;43;01mlambda\u001B[39;49;00m\u001B[43m \u001B[49m\u001B[43ms\u001B[49m\u001B[43m:\u001B[49m\u001B[43m \u001B[49m\u001B[43ms\u001B[49m\u001B[38;5;241;43m.\u001B[39;49m\u001B[43mtranslate\u001B[49m\u001B[43m(\u001B[49m\u001B[38;5;28;43mstr\u001B[39;49m\u001B[38;5;241;43m.\u001B[39;49m\u001B[43mmaketrans\u001B[49m\u001B[43m(\u001B[49m\u001B[38;5;124;43m'\u001B[39;49m\u001B[38;5;124;43m'\u001B[39;49m\u001B[43m,\u001B[49m\u001B[38;5;124;43m'\u001B[39;49m\u001B[38;5;124;43m'\u001B[39;49m\u001B[43m,\u001B[49m\u001B[43m \u001B[49m\u001B[43mstring\u001B[49m\u001B[38;5;241;43m.\u001B[39;49m\u001B[43mpunctuation\u001B[49m\u001B[43m \u001B[49m\u001B[38;5;241;43m+\u001B[39;49m\u001B[43m \u001B[49m\u001B[38;5;124;43mu\u001B[39;49m\u001B[38;5;124;43m'\u001B[39;49m\u001B[38;5;130;43;01m\\xa0\u001B[39;49;00m\u001B[38;5;124;43m'\u001B[39;49m\u001B[43m)\u001B[49m\u001B[43m)\u001B[49m\u001B[43m)\u001B[49m\n\u001B[1;32m      3\u001B[0m cleaned_review \u001B[38;5;241m=\u001B[39m cleaned_review\u001B[38;5;241m.\u001B[39mapply(\u001B[38;5;28;01mlambda\u001B[39;00m s: s\u001B[38;5;241m.\u001B[39mlower())\n\u001B[1;32m      4\u001B[0m cleaned_review\n",
      "File \u001B[0;32m~/anaconda3/envs/se481/lib/python3.10/site-packages/pandas/core/series.py:4904\u001B[0m, in \u001B[0;36mSeries.apply\u001B[0;34m(self, func, convert_dtype, args, by_row, **kwargs)\u001B[0m\n\u001B[1;32m   4769\u001B[0m \u001B[38;5;28;01mdef\u001B[39;00m \u001B[38;5;21mapply\u001B[39m(\n\u001B[1;32m   4770\u001B[0m     \u001B[38;5;28mself\u001B[39m,\n\u001B[1;32m   4771\u001B[0m     func: AggFuncType,\n\u001B[0;32m   (...)\u001B[0m\n\u001B[1;32m   4776\u001B[0m     \u001B[38;5;241m*\u001B[39m\u001B[38;5;241m*\u001B[39mkwargs,\n\u001B[1;32m   4777\u001B[0m ) \u001B[38;5;241m-\u001B[39m\u001B[38;5;241m>\u001B[39m DataFrame \u001B[38;5;241m|\u001B[39m Series:\n\u001B[1;32m   4778\u001B[0m \u001B[38;5;250m    \u001B[39m\u001B[38;5;124;03m\"\"\"\u001B[39;00m\n\u001B[1;32m   4779\u001B[0m \u001B[38;5;124;03m    Invoke function on values of Series.\u001B[39;00m\n\u001B[1;32m   4780\u001B[0m \n\u001B[0;32m   (...)\u001B[0m\n\u001B[1;32m   4895\u001B[0m \u001B[38;5;124;03m    dtype: float64\u001B[39;00m\n\u001B[1;32m   4896\u001B[0m \u001B[38;5;124;03m    \"\"\"\u001B[39;00m\n\u001B[1;32m   4897\u001B[0m     \u001B[38;5;28;01mreturn\u001B[39;00m \u001B[43mSeriesApply\u001B[49m\u001B[43m(\u001B[49m\n\u001B[1;32m   4898\u001B[0m \u001B[43m        \u001B[49m\u001B[38;5;28;43mself\u001B[39;49m\u001B[43m,\u001B[49m\n\u001B[1;32m   4899\u001B[0m \u001B[43m        \u001B[49m\u001B[43mfunc\u001B[49m\u001B[43m,\u001B[49m\n\u001B[1;32m   4900\u001B[0m \u001B[43m        \u001B[49m\u001B[43mconvert_dtype\u001B[49m\u001B[38;5;241;43m=\u001B[39;49m\u001B[43mconvert_dtype\u001B[49m\u001B[43m,\u001B[49m\n\u001B[1;32m   4901\u001B[0m \u001B[43m        \u001B[49m\u001B[43mby_row\u001B[49m\u001B[38;5;241;43m=\u001B[39;49m\u001B[43mby_row\u001B[49m\u001B[43m,\u001B[49m\n\u001B[1;32m   4902\u001B[0m \u001B[43m        \u001B[49m\u001B[43margs\u001B[49m\u001B[38;5;241;43m=\u001B[39;49m\u001B[43margs\u001B[49m\u001B[43m,\u001B[49m\n\u001B[1;32m   4903\u001B[0m \u001B[43m        \u001B[49m\u001B[43mkwargs\u001B[49m\u001B[38;5;241;43m=\u001B[39;49m\u001B[43mkwargs\u001B[49m\u001B[43m,\u001B[49m\n\u001B[0;32m-> 4904\u001B[0m \u001B[43m    \u001B[49m\u001B[43m)\u001B[49m\u001B[38;5;241;43m.\u001B[39;49m\u001B[43mapply\u001B[49m\u001B[43m(\u001B[49m\u001B[43m)\u001B[49m\n",
      "File \u001B[0;32m~/anaconda3/envs/se481/lib/python3.10/site-packages/pandas/core/apply.py:1427\u001B[0m, in \u001B[0;36mSeriesApply.apply\u001B[0;34m(self)\u001B[0m\n\u001B[1;32m   1424\u001B[0m     \u001B[38;5;28;01mreturn\u001B[39;00m \u001B[38;5;28mself\u001B[39m\u001B[38;5;241m.\u001B[39mapply_compat()\n\u001B[1;32m   1426\u001B[0m \u001B[38;5;66;03m# self.func is Callable\u001B[39;00m\n\u001B[0;32m-> 1427\u001B[0m \u001B[38;5;28;01mreturn\u001B[39;00m \u001B[38;5;28;43mself\u001B[39;49m\u001B[38;5;241;43m.\u001B[39;49m\u001B[43mapply_standard\u001B[49m\u001B[43m(\u001B[49m\u001B[43m)\u001B[49m\n",
      "File \u001B[0;32m~/anaconda3/envs/se481/lib/python3.10/site-packages/pandas/core/apply.py:1507\u001B[0m, in \u001B[0;36mSeriesApply.apply_standard\u001B[0;34m(self)\u001B[0m\n\u001B[1;32m   1501\u001B[0m \u001B[38;5;66;03m# row-wise access\u001B[39;00m\n\u001B[1;32m   1502\u001B[0m \u001B[38;5;66;03m# apply doesn't have a `na_action` keyword and for backward compat reasons\u001B[39;00m\n\u001B[1;32m   1503\u001B[0m \u001B[38;5;66;03m# we need to give `na_action=\"ignore\"` for categorical data.\u001B[39;00m\n\u001B[1;32m   1504\u001B[0m \u001B[38;5;66;03m# TODO: remove the `na_action=\"ignore\"` when that default has been changed in\u001B[39;00m\n\u001B[1;32m   1505\u001B[0m \u001B[38;5;66;03m#  Categorical (GH51645).\u001B[39;00m\n\u001B[1;32m   1506\u001B[0m action \u001B[38;5;241m=\u001B[39m \u001B[38;5;124m\"\u001B[39m\u001B[38;5;124mignore\u001B[39m\u001B[38;5;124m\"\u001B[39m \u001B[38;5;28;01mif\u001B[39;00m \u001B[38;5;28misinstance\u001B[39m(obj\u001B[38;5;241m.\u001B[39mdtype, CategoricalDtype) \u001B[38;5;28;01melse\u001B[39;00m \u001B[38;5;28;01mNone\u001B[39;00m\n\u001B[0;32m-> 1507\u001B[0m mapped \u001B[38;5;241m=\u001B[39m \u001B[43mobj\u001B[49m\u001B[38;5;241;43m.\u001B[39;49m\u001B[43m_map_values\u001B[49m\u001B[43m(\u001B[49m\n\u001B[1;32m   1508\u001B[0m \u001B[43m    \u001B[49m\u001B[43mmapper\u001B[49m\u001B[38;5;241;43m=\u001B[39;49m\u001B[43mcurried\u001B[49m\u001B[43m,\u001B[49m\u001B[43m \u001B[49m\u001B[43mna_action\u001B[49m\u001B[38;5;241;43m=\u001B[39;49m\u001B[43maction\u001B[49m\u001B[43m,\u001B[49m\u001B[43m \u001B[49m\u001B[43mconvert\u001B[49m\u001B[38;5;241;43m=\u001B[39;49m\u001B[38;5;28;43mself\u001B[39;49m\u001B[38;5;241;43m.\u001B[39;49m\u001B[43mconvert_dtype\u001B[49m\n\u001B[1;32m   1509\u001B[0m \u001B[43m\u001B[49m\u001B[43m)\u001B[49m\n\u001B[1;32m   1511\u001B[0m \u001B[38;5;28;01mif\u001B[39;00m \u001B[38;5;28mlen\u001B[39m(mapped) \u001B[38;5;129;01mand\u001B[39;00m \u001B[38;5;28misinstance\u001B[39m(mapped[\u001B[38;5;241m0\u001B[39m], ABCSeries):\n\u001B[1;32m   1512\u001B[0m     \u001B[38;5;66;03m# GH#43986 Need to do list(mapped) in order to get treated as nested\u001B[39;00m\n\u001B[1;32m   1513\u001B[0m     \u001B[38;5;66;03m#  See also GH#25959 regarding EA support\u001B[39;00m\n\u001B[1;32m   1514\u001B[0m     \u001B[38;5;28;01mreturn\u001B[39;00m obj\u001B[38;5;241m.\u001B[39m_constructor_expanddim(\u001B[38;5;28mlist\u001B[39m(mapped), index\u001B[38;5;241m=\u001B[39mobj\u001B[38;5;241m.\u001B[39mindex)\n",
      "File \u001B[0;32m~/anaconda3/envs/se481/lib/python3.10/site-packages/pandas/core/base.py:921\u001B[0m, in \u001B[0;36mIndexOpsMixin._map_values\u001B[0;34m(self, mapper, na_action, convert)\u001B[0m\n\u001B[1;32m    918\u001B[0m \u001B[38;5;28;01mif\u001B[39;00m \u001B[38;5;28misinstance\u001B[39m(arr, ExtensionArray):\n\u001B[1;32m    919\u001B[0m     \u001B[38;5;28;01mreturn\u001B[39;00m arr\u001B[38;5;241m.\u001B[39mmap(mapper, na_action\u001B[38;5;241m=\u001B[39mna_action)\n\u001B[0;32m--> 921\u001B[0m \u001B[38;5;28;01mreturn\u001B[39;00m \u001B[43malgorithms\u001B[49m\u001B[38;5;241;43m.\u001B[39;49m\u001B[43mmap_array\u001B[49m\u001B[43m(\u001B[49m\u001B[43marr\u001B[49m\u001B[43m,\u001B[49m\u001B[43m \u001B[49m\u001B[43mmapper\u001B[49m\u001B[43m,\u001B[49m\u001B[43m \u001B[49m\u001B[43mna_action\u001B[49m\u001B[38;5;241;43m=\u001B[39;49m\u001B[43mna_action\u001B[49m\u001B[43m,\u001B[49m\u001B[43m \u001B[49m\u001B[43mconvert\u001B[49m\u001B[38;5;241;43m=\u001B[39;49m\u001B[43mconvert\u001B[49m\u001B[43m)\u001B[49m\n",
      "File \u001B[0;32m~/anaconda3/envs/se481/lib/python3.10/site-packages/pandas/core/algorithms.py:1743\u001B[0m, in \u001B[0;36mmap_array\u001B[0;34m(arr, mapper, na_action, convert)\u001B[0m\n\u001B[1;32m   1741\u001B[0m values \u001B[38;5;241m=\u001B[39m arr\u001B[38;5;241m.\u001B[39mastype(\u001B[38;5;28mobject\u001B[39m, copy\u001B[38;5;241m=\u001B[39m\u001B[38;5;28;01mFalse\u001B[39;00m)\n\u001B[1;32m   1742\u001B[0m \u001B[38;5;28;01mif\u001B[39;00m na_action \u001B[38;5;129;01mis\u001B[39;00m \u001B[38;5;28;01mNone\u001B[39;00m:\n\u001B[0;32m-> 1743\u001B[0m     \u001B[38;5;28;01mreturn\u001B[39;00m \u001B[43mlib\u001B[49m\u001B[38;5;241;43m.\u001B[39;49m\u001B[43mmap_infer\u001B[49m\u001B[43m(\u001B[49m\u001B[43mvalues\u001B[49m\u001B[43m,\u001B[49m\u001B[43m \u001B[49m\u001B[43mmapper\u001B[49m\u001B[43m,\u001B[49m\u001B[43m \u001B[49m\u001B[43mconvert\u001B[49m\u001B[38;5;241;43m=\u001B[39;49m\u001B[43mconvert\u001B[49m\u001B[43m)\u001B[49m\n\u001B[1;32m   1744\u001B[0m \u001B[38;5;28;01melse\u001B[39;00m:\n\u001B[1;32m   1745\u001B[0m     \u001B[38;5;28;01mreturn\u001B[39;00m lib\u001B[38;5;241m.\u001B[39mmap_infer_mask(\n\u001B[1;32m   1746\u001B[0m         values, mapper, mask\u001B[38;5;241m=\u001B[39misna(values)\u001B[38;5;241m.\u001B[39mview(np\u001B[38;5;241m.\u001B[39muint8), convert\u001B[38;5;241m=\u001B[39mconvert\n\u001B[1;32m   1747\u001B[0m     )\n",
      "File \u001B[0;32mlib.pyx:2972\u001B[0m, in \u001B[0;36mpandas._libs.lib.map_infer\u001B[0;34m()\u001B[0m\n",
      "Cell \u001B[0;32mIn[276], line 2\u001B[0m, in \u001B[0;36m<lambda>\u001B[0;34m(s)\u001B[0m\n\u001B[1;32m      1\u001B[0m raw_review \u001B[38;5;241m=\u001B[39m df_review[\u001B[38;5;124m'\u001B[39m\u001B[38;5;124mReview\u001B[39m\u001B[38;5;124m'\u001B[39m]\n\u001B[0;32m----> 2\u001B[0m cleaned_review \u001B[38;5;241m=\u001B[39m raw_review\u001B[38;5;241m.\u001B[39mapply(\u001B[38;5;28;01mlambda\u001B[39;00m s: \u001B[43ms\u001B[49m\u001B[38;5;241;43m.\u001B[39;49m\u001B[43mtranslate\u001B[49m(\u001B[38;5;28mstr\u001B[39m\u001B[38;5;241m.\u001B[39mmaketrans(\u001B[38;5;124m'\u001B[39m\u001B[38;5;124m'\u001B[39m,\u001B[38;5;124m'\u001B[39m\u001B[38;5;124m'\u001B[39m, string\u001B[38;5;241m.\u001B[39mpunctuation \u001B[38;5;241m+\u001B[39m \u001B[38;5;124mu\u001B[39m\u001B[38;5;124m'\u001B[39m\u001B[38;5;130;01m\\xa0\u001B[39;00m\u001B[38;5;124m'\u001B[39m)))\n\u001B[1;32m      3\u001B[0m cleaned_review \u001B[38;5;241m=\u001B[39m cleaned_review\u001B[38;5;241m.\u001B[39mapply(\u001B[38;5;28;01mlambda\u001B[39;00m s: s\u001B[38;5;241m.\u001B[39mlower())\n\u001B[1;32m      4\u001B[0m cleaned_review\n",
      "\u001B[0;31mAttributeError\u001B[0m: 'float' object has no attribute 'translate'"
     ]
    }
   ],
   "source": [
    "raw_review = df_review['Review']\n",
    "cleaned_review = raw_review.apply(lambda s: s.translate(str.maketrans('','', string.punctuation + u'\\xa0')))\n",
    "cleaned_review = cleaned_review.apply(lambda s: s.lower())\n",
    "cleaned_review"
   ],
   "metadata": {
    "collapsed": false,
    "ExecuteTime": {
     "start_time": "2024-03-12T09:18:09.778251Z",
     "end_time": "2024-03-12T09:18:09.782532Z"
    }
   }
  },
  {
   "cell_type": "code",
   "execution_count": null,
   "outputs": [],
   "source": [
    "raw_review"
   ],
   "metadata": {
    "collapsed": false,
    "ExecuteTime": {
     "start_time": "2024-03-12T09:18:09.789390Z",
     "end_time": "2024-03-12T09:18:14.533080Z"
    }
   }
  },
  {
   "cell_type": "code",
   "execution_count": null,
   "outputs": [],
   "source": [],
   "metadata": {
    "collapsed": false
   }
  }
 ],
 "metadata": {
  "kernelspec": {
   "display_name": "Python 3",
   "language": "python",
   "name": "python3"
  },
  "language_info": {
   "codemirror_mode": {
    "name": "ipython",
    "version": 2
   },
   "file_extension": ".py",
   "mimetype": "text/x-python",
   "name": "python",
   "nbconvert_exporter": "python",
   "pygments_lexer": "ipython2",
   "version": "2.7.6"
  }
 },
 "nbformat": 4,
 "nbformat_minor": 0
}
