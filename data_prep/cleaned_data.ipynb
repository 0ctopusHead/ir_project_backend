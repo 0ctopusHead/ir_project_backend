{
 "cells": [
  {
   "cell_type": "code",
   "execution_count": 1,
   "metadata": {
    "collapsed": true,
    "ExecuteTime": {
     "start_time": "2024-03-15T21:58:10.126124Z",
     "end_time": "2024-03-15T21:58:10.586477Z"
    }
   },
   "outputs": [],
   "source": [
    "import os\n",
    "import pickle\n",
    "from pathlib import Path\n",
    "import pandas as pd\n",
    "import string\n",
    "import re"
   ]
  },
  {
   "cell_type": "code",
   "execution_count": 2,
   "outputs": [],
   "source": [
    "stored_folder = Path(os.path.abspath('')).parent / \"data\" / \"raw\" / \"recipes.csv\"\n",
    "df_recipe = pd.read_csv(stored_folder,encoding=\"UTF-8\")"
   ],
   "metadata": {
    "collapsed": false,
    "ExecuteTime": {
     "start_time": "2024-03-15T21:58:10.587664Z",
     "end_time": "2024-03-15T21:58:17.194210Z"
    }
   }
  },
  {
   "cell_type": "code",
   "execution_count": 3,
   "outputs": [],
   "source": [
    "df_recipe = df_recipe.drop(columns=['RecipeIngredientQuantities', 'CookTime', 'PrepTime', 'TotalTime', 'DatePublished', 'Keywords', 'Calories', 'FatContent', 'SaturatedFatContent', 'CholesterolContent', 'SodiumContent', 'CarbohydrateContent', 'FiberContent', 'SugarContent', 'ProteinContent', 'RecipeServings', 'RecipeYield'])"
   ],
   "metadata": {
    "collapsed": false,
    "ExecuteTime": {
     "start_time": "2024-03-15T21:58:17.197220Z",
     "end_time": "2024-03-15T21:58:17.266536Z"
    }
   }
  },
  {
   "cell_type": "code",
   "execution_count": 4,
   "outputs": [
    {
     "data": {
      "text/plain": "        RecipeId                                              Name  \\\n0             38                 Low-Fat Berry Blue Frozen Dessert   \n1             39                                           Biryani   \n2             40                                     Best Lemonade   \n3             41                    Carina's Tofu-Vegetable Kebabs   \n4             42                                      Cabbage Soup   \n...          ...                                               ...   \n522512    541379                    Meg's Fresh Ginger Gingerbread   \n522513    541380  Roast Prime Rib au Poivre with Mixed Peppercorns   \n522514    541381                             Kirshwasser Ice Cream   \n522515    541382          Quick & Easy Asian Cucumber Salmon Rolls   \n522516    541383                           Spicy Baked Scotch Eggs   \n\n          AuthorId      AuthorName  \\\n0             1533          Dancer   \n1             1567        elly9812   \n2             1566  Stephen Little   \n3             1586         Cyclopz   \n4             1538       Duckie067   \n...            ...             ...   \n522512  2002090414           rdsxc   \n522513      211566    Denver cooks   \n522514  2001131545     Jonathan F.   \n522515  2001004241       CLUBFOODY   \n522516      188099    Chef LauraMD   \n\n                                              Description  \\\n0       Make and share this Low-Fat Berry Blue Frozen ...   \n1       Make and share this Biryani recipe from Food.com.   \n2       This is from one of my  first Good House Keepi...   \n3       This dish is best prepared a day in advance to...   \n4       Make and share this Cabbage Soup recipe from F...   \n...                                                   ...   \n522512  Make and share this Meg's Fresh Ginger Gingerb...   \n522513  White, black, green, and pink peppercorns add ...   \n522514  Make and share this Kirshwasser Ice Cream reci...   \n522515  Extremely quick and easy to make, these are gr...   \n522516  Great way to have hard boiled eggs and crispy,...   \n\n                                                   Images   RecipeCategory  \\\n0       c(\"https://img.sndimg.com/food/image/upload/w_...  Frozen Desserts   \n1       c(\"https://img.sndimg.com/food/image/upload/w_...   Chicken Breast   \n2       c(\"https://img.sndimg.com/food/image/upload/w_...        Beverages   \n3       c(\"https://img.sndimg.com/food/image/upload/w_...         Soy/Tofu   \n4       \"https://img.sndimg.com/food/image/upload/w_55...        Vegetable   \n...                                                   ...              ...   \n522512                                       character(0)          Dessert   \n522513  \"https://img.sndimg.com/food/image/upload/w_55...   Very Low Carbs   \n522514                                       character(0)        Ice Cream   \n522515  \"https://img.sndimg.com/food/image/upload/w_55...         Canadian   \n522516                                       character(0)        Breakfast   \n\n                                    RecipeIngredientParts  AggregatedRating  \\\n0       c(\"blueberries\", \"granulated sugar\", \"vanilla ...               4.5   \n1       c(\"saffron\", \"milk\", \"hot green chili peppers\"...               3.0   \n2       c(\"sugar\", \"lemons, rind of\", \"lemon, zest of\"...               4.5   \n3       c(\"extra firm tofu\", \"eggplant\", \"zucchini\", \"...               4.5   \n4       c(\"plain tomato juice\", \"cabbage\", \"onion\", \"c...               4.5   \n...                                                   ...               ...   \n522512  c(\"fresh ginger\", \"unsalted butter\", \"dark bro...               NaN   \n522513  c(\"Dijon mustard\", \"garlic\", \"peppercorns\", \"s...               NaN   \n522514  c(\"half-and-half\", \"heavy cream\", \"brandy\", \"s...               NaN   \n522515  c(\"wasabi paste\", \"dill\", \"English cucumber\", ...               NaN   \n522516  c(\"hard-boiled eggs\", \"breakfast sausage\", \"pa...               NaN   \n\n        ReviewCount                                 RecipeInstructions  \n0               4.0  c(\"Toss 2 cups berries with sugar.\", \"Let stan...  \n1               1.0  c(\"Soak saffron in warm milk for 5 minutes and...  \n2              10.0  c(\"Into a 1 quart Jar with tight fitting lid, ...  \n3               2.0  c(\"Drain the tofu, carefully squeezing out exc...  \n4              11.0  c(\"Mix everything together and bring to a boil...  \n...             ...                                                ...  \n522512          NaN  c(\"Preheat oven to 350&deg;F Grease an 8x8 cak...  \n522513          NaN  c(\"Position rack in center of oven and preheat...  \n522514          NaN  c(\"heat half and half and heavy cream to a sim...  \n522515          NaN  c(\"In a small bowl, combine mayo and wasabi pa...  \n522516          NaN  c(\"Mix sausage, panko, egg yolk and Wocestersh...  \n\n[522517 rows x 11 columns]",
      "text/html": "<div>\n<style scoped>\n    .dataframe tbody tr th:only-of-type {\n        vertical-align: middle;\n    }\n\n    .dataframe tbody tr th {\n        vertical-align: top;\n    }\n\n    .dataframe thead th {\n        text-align: right;\n    }\n</style>\n<table border=\"1\" class=\"dataframe\">\n  <thead>\n    <tr style=\"text-align: right;\">\n      <th></th>\n      <th>RecipeId</th>\n      <th>Name</th>\n      <th>AuthorId</th>\n      <th>AuthorName</th>\n      <th>Description</th>\n      <th>Images</th>\n      <th>RecipeCategory</th>\n      <th>RecipeIngredientParts</th>\n      <th>AggregatedRating</th>\n      <th>ReviewCount</th>\n      <th>RecipeInstructions</th>\n    </tr>\n  </thead>\n  <tbody>\n    <tr>\n      <th>0</th>\n      <td>38</td>\n      <td>Low-Fat Berry Blue Frozen Dessert</td>\n      <td>1533</td>\n      <td>Dancer</td>\n      <td>Make and share this Low-Fat Berry Blue Frozen ...</td>\n      <td>c(\"https://img.sndimg.com/food/image/upload/w_...</td>\n      <td>Frozen Desserts</td>\n      <td>c(\"blueberries\", \"granulated sugar\", \"vanilla ...</td>\n      <td>4.5</td>\n      <td>4.0</td>\n      <td>c(\"Toss 2 cups berries with sugar.\", \"Let stan...</td>\n    </tr>\n    <tr>\n      <th>1</th>\n      <td>39</td>\n      <td>Biryani</td>\n      <td>1567</td>\n      <td>elly9812</td>\n      <td>Make and share this Biryani recipe from Food.com.</td>\n      <td>c(\"https://img.sndimg.com/food/image/upload/w_...</td>\n      <td>Chicken Breast</td>\n      <td>c(\"saffron\", \"milk\", \"hot green chili peppers\"...</td>\n      <td>3.0</td>\n      <td>1.0</td>\n      <td>c(\"Soak saffron in warm milk for 5 minutes and...</td>\n    </tr>\n    <tr>\n      <th>2</th>\n      <td>40</td>\n      <td>Best Lemonade</td>\n      <td>1566</td>\n      <td>Stephen Little</td>\n      <td>This is from one of my  first Good House Keepi...</td>\n      <td>c(\"https://img.sndimg.com/food/image/upload/w_...</td>\n      <td>Beverages</td>\n      <td>c(\"sugar\", \"lemons, rind of\", \"lemon, zest of\"...</td>\n      <td>4.5</td>\n      <td>10.0</td>\n      <td>c(\"Into a 1 quart Jar with tight fitting lid, ...</td>\n    </tr>\n    <tr>\n      <th>3</th>\n      <td>41</td>\n      <td>Carina's Tofu-Vegetable Kebabs</td>\n      <td>1586</td>\n      <td>Cyclopz</td>\n      <td>This dish is best prepared a day in advance to...</td>\n      <td>c(\"https://img.sndimg.com/food/image/upload/w_...</td>\n      <td>Soy/Tofu</td>\n      <td>c(\"extra firm tofu\", \"eggplant\", \"zucchini\", \"...</td>\n      <td>4.5</td>\n      <td>2.0</td>\n      <td>c(\"Drain the tofu, carefully squeezing out exc...</td>\n    </tr>\n    <tr>\n      <th>4</th>\n      <td>42</td>\n      <td>Cabbage Soup</td>\n      <td>1538</td>\n      <td>Duckie067</td>\n      <td>Make and share this Cabbage Soup recipe from F...</td>\n      <td>\"https://img.sndimg.com/food/image/upload/w_55...</td>\n      <td>Vegetable</td>\n      <td>c(\"plain tomato juice\", \"cabbage\", \"onion\", \"c...</td>\n      <td>4.5</td>\n      <td>11.0</td>\n      <td>c(\"Mix everything together and bring to a boil...</td>\n    </tr>\n    <tr>\n      <th>...</th>\n      <td>...</td>\n      <td>...</td>\n      <td>...</td>\n      <td>...</td>\n      <td>...</td>\n      <td>...</td>\n      <td>...</td>\n      <td>...</td>\n      <td>...</td>\n      <td>...</td>\n      <td>...</td>\n    </tr>\n    <tr>\n      <th>522512</th>\n      <td>541379</td>\n      <td>Meg's Fresh Ginger Gingerbread</td>\n      <td>2002090414</td>\n      <td>rdsxc</td>\n      <td>Make and share this Meg's Fresh Ginger Gingerb...</td>\n      <td>character(0)</td>\n      <td>Dessert</td>\n      <td>c(\"fresh ginger\", \"unsalted butter\", \"dark bro...</td>\n      <td>NaN</td>\n      <td>NaN</td>\n      <td>c(\"Preheat oven to 350&amp;deg;F Grease an 8x8 cak...</td>\n    </tr>\n    <tr>\n      <th>522513</th>\n      <td>541380</td>\n      <td>Roast Prime Rib au Poivre with Mixed Peppercorns</td>\n      <td>211566</td>\n      <td>Denver cooks</td>\n      <td>White, black, green, and pink peppercorns add ...</td>\n      <td>\"https://img.sndimg.com/food/image/upload/w_55...</td>\n      <td>Very Low Carbs</td>\n      <td>c(\"Dijon mustard\", \"garlic\", \"peppercorns\", \"s...</td>\n      <td>NaN</td>\n      <td>NaN</td>\n      <td>c(\"Position rack in center of oven and preheat...</td>\n    </tr>\n    <tr>\n      <th>522514</th>\n      <td>541381</td>\n      <td>Kirshwasser Ice Cream</td>\n      <td>2001131545</td>\n      <td>Jonathan F.</td>\n      <td>Make and share this Kirshwasser Ice Cream reci...</td>\n      <td>character(0)</td>\n      <td>Ice Cream</td>\n      <td>c(\"half-and-half\", \"heavy cream\", \"brandy\", \"s...</td>\n      <td>NaN</td>\n      <td>NaN</td>\n      <td>c(\"heat half and half and heavy cream to a sim...</td>\n    </tr>\n    <tr>\n      <th>522515</th>\n      <td>541382</td>\n      <td>Quick &amp; Easy Asian Cucumber Salmon Rolls</td>\n      <td>2001004241</td>\n      <td>CLUBFOODY</td>\n      <td>Extremely quick and easy to make, these are gr...</td>\n      <td>\"https://img.sndimg.com/food/image/upload/w_55...</td>\n      <td>Canadian</td>\n      <td>c(\"wasabi paste\", \"dill\", \"English cucumber\", ...</td>\n      <td>NaN</td>\n      <td>NaN</td>\n      <td>c(\"In a small bowl, combine mayo and wasabi pa...</td>\n    </tr>\n    <tr>\n      <th>522516</th>\n      <td>541383</td>\n      <td>Spicy Baked Scotch Eggs</td>\n      <td>188099</td>\n      <td>Chef LauraMD</td>\n      <td>Great way to have hard boiled eggs and crispy,...</td>\n      <td>character(0)</td>\n      <td>Breakfast</td>\n      <td>c(\"hard-boiled eggs\", \"breakfast sausage\", \"pa...</td>\n      <td>NaN</td>\n      <td>NaN</td>\n      <td>c(\"Mix sausage, panko, egg yolk and Wocestersh...</td>\n    </tr>\n  </tbody>\n</table>\n<p>522517 rows × 11 columns</p>\n</div>"
     },
     "execution_count": 4,
     "metadata": {},
     "output_type": "execute_result"
    }
   ],
   "source": [
    "df_recipe"
   ],
   "metadata": {
    "collapsed": false,
    "ExecuteTime": {
     "start_time": "2024-03-15T21:58:17.875669Z",
     "end_time": "2024-03-15T21:58:17.890637Z"
    }
   }
  },
  {
   "cell_type": "code",
   "execution_count": 106,
   "outputs": [],
   "source": [
    "name = df_recipe[\"Name\"]\n",
    "cleaned_name = name.apply(lambda s: s.translate(str.maketrans('','', string.punctuation + u'\\xa0')))\n",
    "cleaned_name = cleaned_name.apply(lambda s: s.lower())\n",
    "cleaned_name = cleaned_name.apply(lambda s: s.translate(str.maketrans(string.whitespace, ' ' * len(string.whitespace), '')))\n",
    "cleaned_name = cleaned_name.replace('', None)\n",
    "df_recipe[\"Name\"] = cleaned_name"
   ],
   "metadata": {
    "collapsed": false,
    "ExecuteTime": {
     "start_time": "2024-03-13T06:33:36.727314Z",
     "end_time": "2024-03-13T06:33:38.109678Z"
    }
   }
  },
  {
   "cell_type": "code",
   "execution_count": 107,
   "outputs": [
    {
     "data": {
      "text/plain": "        RecipeId                                              Name  \\\n0             38                  lowfat berry blue frozen dessert   \n1             39                                           biryani   \n2             40                                     best lemonade   \n3             41                      carinas tofuvegetable kebabs   \n4             42                                      cabbage soup   \n...          ...                                               ...   \n522512    541379                     megs fresh ginger gingerbread   \n522513    541380  roast prime rib au poivre with mixed peppercorns   \n522514    541381                             kirshwasser ice cream   \n522515    541382           quick  easy asian cucumber salmon rolls   \n522516    541383                           spicy baked scotch eggs   \n\n          AuthorId      AuthorName  \\\n0             1533          Dancer   \n1             1567        elly9812   \n2             1566  Stephen Little   \n3             1586         Cyclopz   \n4             1538       Duckie067   \n...            ...             ...   \n522512  2002090414           rdsxc   \n522513      211566    Denver cooks   \n522514  2001131545     Jonathan F.   \n522515  2001004241       CLUBFOODY   \n522516      188099    Chef LauraMD   \n\n                                              Description  \\\n0       Make and share this Low-Fat Berry Blue Frozen ...   \n1       Make and share this Biryani recipe from Food.com.   \n2       This is from one of my  first Good House Keepi...   \n3       This dish is best prepared a day in advance to...   \n4       Make and share this Cabbage Soup recipe from F...   \n...                                                   ...   \n522512  Make and share this Meg's Fresh Ginger Gingerb...   \n522513  White, black, green, and pink peppercorns add ...   \n522514  Make and share this Kirshwasser Ice Cream reci...   \n522515  Extremely quick and easy to make, these are gr...   \n522516  Great way to have hard boiled eggs and crispy,...   \n\n                                                   Images   RecipeCategory  \\\n0       c(\"https://img.sndimg.com/food/image/upload/w_...  Frozen Desserts   \n1       c(\"https://img.sndimg.com/food/image/upload/w_...   Chicken Breast   \n2       c(\"https://img.sndimg.com/food/image/upload/w_...        Beverages   \n3       c(\"https://img.sndimg.com/food/image/upload/w_...         Soy/Tofu   \n4       \"https://img.sndimg.com/food/image/upload/w_55...        Vegetable   \n...                                                   ...              ...   \n522512                                       character(0)          Dessert   \n522513  \"https://img.sndimg.com/food/image/upload/w_55...   Very Low Carbs   \n522514                                       character(0)        Ice Cream   \n522515  \"https://img.sndimg.com/food/image/upload/w_55...         Canadian   \n522516                                       character(0)        Breakfast   \n\n                                    RecipeIngredientParts  AggregatedRating  \\\n0       c(\"blueberries\", \"granulated sugar\", \"vanilla ...               4.5   \n1       c(\"saffron\", \"milk\", \"hot green chili peppers\"...               3.0   \n2       c(\"sugar\", \"lemons, rind of\", \"lemon, zest of\"...               4.5   \n3       c(\"extra firm tofu\", \"eggplant\", \"zucchini\", \"...               4.5   \n4       c(\"plain tomato juice\", \"cabbage\", \"onion\", \"c...               4.5   \n...                                                   ...               ...   \n522512  c(\"fresh ginger\", \"unsalted butter\", \"dark bro...               NaN   \n522513  c(\"Dijon mustard\", \"garlic\", \"peppercorns\", \"s...               NaN   \n522514  c(\"half-and-half\", \"heavy cream\", \"brandy\", \"s...               NaN   \n522515  c(\"wasabi paste\", \"dill\", \"English cucumber\", ...               NaN   \n522516  c(\"hard-boiled eggs\", \"breakfast sausage\", \"pa...               NaN   \n\n        ReviewCount                                 RecipeInstructions  \n0               4.0  c(\"Toss 2 cups berries with sugar.\", \"Let stan...  \n1               1.0  c(\"Soak saffron in warm milk for 5 minutes and...  \n2              10.0  c(\"Into a 1 quart Jar with tight fitting lid, ...  \n3               2.0  c(\"Drain the tofu, carefully squeezing out exc...  \n4              11.0  c(\"Mix everything together and bring to a boil...  \n...             ...                                                ...  \n522512          NaN  c(\"Preheat oven to 350&deg;F Grease an 8x8 cak...  \n522513          NaN  c(\"Position rack in center of oven and preheat...  \n522514          NaN  c(\"heat half and half and heavy cream to a sim...  \n522515          NaN  c(\"In a small bowl, combine mayo and wasabi pa...  \n522516          NaN  c(\"Mix sausage, panko, egg yolk and Wocestersh...  \n\n[522517 rows x 11 columns]",
      "text/html": "<div>\n<style scoped>\n    .dataframe tbody tr th:only-of-type {\n        vertical-align: middle;\n    }\n\n    .dataframe tbody tr th {\n        vertical-align: top;\n    }\n\n    .dataframe thead th {\n        text-align: right;\n    }\n</style>\n<table border=\"1\" class=\"dataframe\">\n  <thead>\n    <tr style=\"text-align: right;\">\n      <th></th>\n      <th>RecipeId</th>\n      <th>Name</th>\n      <th>AuthorId</th>\n      <th>AuthorName</th>\n      <th>Description</th>\n      <th>Images</th>\n      <th>RecipeCategory</th>\n      <th>RecipeIngredientParts</th>\n      <th>AggregatedRating</th>\n      <th>ReviewCount</th>\n      <th>RecipeInstructions</th>\n    </tr>\n  </thead>\n  <tbody>\n    <tr>\n      <th>0</th>\n      <td>38</td>\n      <td>lowfat berry blue frozen dessert</td>\n      <td>1533</td>\n      <td>Dancer</td>\n      <td>Make and share this Low-Fat Berry Blue Frozen ...</td>\n      <td>c(\"https://img.sndimg.com/food/image/upload/w_...</td>\n      <td>Frozen Desserts</td>\n      <td>c(\"blueberries\", \"granulated sugar\", \"vanilla ...</td>\n      <td>4.5</td>\n      <td>4.0</td>\n      <td>c(\"Toss 2 cups berries with sugar.\", \"Let stan...</td>\n    </tr>\n    <tr>\n      <th>1</th>\n      <td>39</td>\n      <td>biryani</td>\n      <td>1567</td>\n      <td>elly9812</td>\n      <td>Make and share this Biryani recipe from Food.com.</td>\n      <td>c(\"https://img.sndimg.com/food/image/upload/w_...</td>\n      <td>Chicken Breast</td>\n      <td>c(\"saffron\", \"milk\", \"hot green chili peppers\"...</td>\n      <td>3.0</td>\n      <td>1.0</td>\n      <td>c(\"Soak saffron in warm milk for 5 minutes and...</td>\n    </tr>\n    <tr>\n      <th>2</th>\n      <td>40</td>\n      <td>best lemonade</td>\n      <td>1566</td>\n      <td>Stephen Little</td>\n      <td>This is from one of my  first Good House Keepi...</td>\n      <td>c(\"https://img.sndimg.com/food/image/upload/w_...</td>\n      <td>Beverages</td>\n      <td>c(\"sugar\", \"lemons, rind of\", \"lemon, zest of\"...</td>\n      <td>4.5</td>\n      <td>10.0</td>\n      <td>c(\"Into a 1 quart Jar with tight fitting lid, ...</td>\n    </tr>\n    <tr>\n      <th>3</th>\n      <td>41</td>\n      <td>carinas tofuvegetable kebabs</td>\n      <td>1586</td>\n      <td>Cyclopz</td>\n      <td>This dish is best prepared a day in advance to...</td>\n      <td>c(\"https://img.sndimg.com/food/image/upload/w_...</td>\n      <td>Soy/Tofu</td>\n      <td>c(\"extra firm tofu\", \"eggplant\", \"zucchini\", \"...</td>\n      <td>4.5</td>\n      <td>2.0</td>\n      <td>c(\"Drain the tofu, carefully squeezing out exc...</td>\n    </tr>\n    <tr>\n      <th>4</th>\n      <td>42</td>\n      <td>cabbage soup</td>\n      <td>1538</td>\n      <td>Duckie067</td>\n      <td>Make and share this Cabbage Soup recipe from F...</td>\n      <td>\"https://img.sndimg.com/food/image/upload/w_55...</td>\n      <td>Vegetable</td>\n      <td>c(\"plain tomato juice\", \"cabbage\", \"onion\", \"c...</td>\n      <td>4.5</td>\n      <td>11.0</td>\n      <td>c(\"Mix everything together and bring to a boil...</td>\n    </tr>\n    <tr>\n      <th>...</th>\n      <td>...</td>\n      <td>...</td>\n      <td>...</td>\n      <td>...</td>\n      <td>...</td>\n      <td>...</td>\n      <td>...</td>\n      <td>...</td>\n      <td>...</td>\n      <td>...</td>\n      <td>...</td>\n    </tr>\n    <tr>\n      <th>522512</th>\n      <td>541379</td>\n      <td>megs fresh ginger gingerbread</td>\n      <td>2002090414</td>\n      <td>rdsxc</td>\n      <td>Make and share this Meg's Fresh Ginger Gingerb...</td>\n      <td>character(0)</td>\n      <td>Dessert</td>\n      <td>c(\"fresh ginger\", \"unsalted butter\", \"dark bro...</td>\n      <td>NaN</td>\n      <td>NaN</td>\n      <td>c(\"Preheat oven to 350&amp;deg;F Grease an 8x8 cak...</td>\n    </tr>\n    <tr>\n      <th>522513</th>\n      <td>541380</td>\n      <td>roast prime rib au poivre with mixed peppercorns</td>\n      <td>211566</td>\n      <td>Denver cooks</td>\n      <td>White, black, green, and pink peppercorns add ...</td>\n      <td>\"https://img.sndimg.com/food/image/upload/w_55...</td>\n      <td>Very Low Carbs</td>\n      <td>c(\"Dijon mustard\", \"garlic\", \"peppercorns\", \"s...</td>\n      <td>NaN</td>\n      <td>NaN</td>\n      <td>c(\"Position rack in center of oven and preheat...</td>\n    </tr>\n    <tr>\n      <th>522514</th>\n      <td>541381</td>\n      <td>kirshwasser ice cream</td>\n      <td>2001131545</td>\n      <td>Jonathan F.</td>\n      <td>Make and share this Kirshwasser Ice Cream reci...</td>\n      <td>character(0)</td>\n      <td>Ice Cream</td>\n      <td>c(\"half-and-half\", \"heavy cream\", \"brandy\", \"s...</td>\n      <td>NaN</td>\n      <td>NaN</td>\n      <td>c(\"heat half and half and heavy cream to a sim...</td>\n    </tr>\n    <tr>\n      <th>522515</th>\n      <td>541382</td>\n      <td>quick  easy asian cucumber salmon rolls</td>\n      <td>2001004241</td>\n      <td>CLUBFOODY</td>\n      <td>Extremely quick and easy to make, these are gr...</td>\n      <td>\"https://img.sndimg.com/food/image/upload/w_55...</td>\n      <td>Canadian</td>\n      <td>c(\"wasabi paste\", \"dill\", \"English cucumber\", ...</td>\n      <td>NaN</td>\n      <td>NaN</td>\n      <td>c(\"In a small bowl, combine mayo and wasabi pa...</td>\n    </tr>\n    <tr>\n      <th>522516</th>\n      <td>541383</td>\n      <td>spicy baked scotch eggs</td>\n      <td>188099</td>\n      <td>Chef LauraMD</td>\n      <td>Great way to have hard boiled eggs and crispy,...</td>\n      <td>character(0)</td>\n      <td>Breakfast</td>\n      <td>c(\"hard-boiled eggs\", \"breakfast sausage\", \"pa...</td>\n      <td>NaN</td>\n      <td>NaN</td>\n      <td>c(\"Mix sausage, panko, egg yolk and Wocestersh...</td>\n    </tr>\n  </tbody>\n</table>\n<p>522517 rows × 11 columns</p>\n</div>"
     },
     "execution_count": 107,
     "metadata": {},
     "output_type": "execute_result"
    }
   ],
   "source": [
    "df_recipe"
   ],
   "metadata": {
    "collapsed": false,
    "ExecuteTime": {
     "start_time": "2024-03-13T06:33:38.113061Z",
     "end_time": "2024-03-13T06:33:38.116085Z"
    }
   }
  },
  {
   "cell_type": "code",
   "execution_count": 108,
   "outputs": [
    {
     "data": {
      "text/plain": "0         toss 2 cups berries with sugar., let stand for...\n1         soak saffron in warm milk for 5 minutes and pu...\n2         into a 1 quart jar with tight fitting lid, put...\n3         drain the tofu, carefully squeezing out excess...\n4         mix everything together and bring to a boil., ...\n                                ...                        \n522512    preheat oven to 350&deg;f grease an 8x8 cake p...\n522513    position rack in center of oven and preheat to...\n522514    heat half and half and heavy cream to a simmer...\n522515    in a small bowl, combine mayo and wasabi paste...\n522516    mix sausage, panko, egg yolk and wocestershire...\nName: RecipeInstructions, Length: 522517, dtype: object"
     },
     "execution_count": 108,
     "metadata": {},
     "output_type": "execute_result"
    }
   ],
   "source": [
    "cook_process = df_recipe[\"RecipeInstructions\"]\n",
    "cleaned_cook_process = cook_process.replace('character(0)', None).fillna('')\n",
    "cleaned_cook_process = cleaned_cook_process.replace('\"\"', None).fillna('')\n",
    "cleaned_cook_process = cleaned_cook_process.apply(lambda s: s.replace('c(', '').replace(')', ''))\n",
    "cleaned_cook_process = cleaned_cook_process.apply(lambda s: s.replace('\"', ''))\n",
    "cleaned_cook_process = cleaned_cook_process.apply(lambda s: s.lower())\n",
    "\n",
    "df_recipe[\"RecipeInstructions\"] = cleaned_cook_process\n",
    "df_recipe[\"RecipeInstructions\"]"
   ],
   "metadata": {
    "collapsed": false,
    "ExecuteTime": {
     "start_time": "2024-03-13T06:33:38.166993Z",
     "end_time": "2024-03-13T06:33:40.237699Z"
    }
   }
  },
  {
   "cell_type": "code",
   "execution_count": 109,
   "outputs": [
    {
     "data": {
      "text/plain": "0         blueberries, granulated sugar, vanilla yogurt,...\n1         saffron, milk, hot green chili peppers, onions...\n2         sugar, lemons, rind of, lemon, zest of, fresh ...\n3         extra firm tofu, eggplant, zucchini, mushrooms...\n4         plain tomato juice, cabbage, onion, carrots, c...\n                                ...                        \n522512    fresh ginger, unsalted butter, dark brown suga...\n522513    dijon mustard, garlic, peppercorns, shallot, c...\n522514            half-and-half, heavy cream, brandy, sugar\n522515    wasabi paste, dill, english cucumber, smoked s...\n522516    hard-boiled eggs, breakfast sausage, panko bre...\nName: RecipeIngredientParts, Length: 522517, dtype: object"
     },
     "execution_count": 109,
     "metadata": {},
     "output_type": "execute_result"
    }
   ],
   "source": [
    "ingredient = df_recipe[\"RecipeIngredientParts\"]\n",
    "cleaned_ingredient = df_recipe[\"RecipeIngredientParts\"].replace('character(0)', None).fillna('')\n",
    "cleaned_ingredient = cleaned_ingredient.apply(lambda s: s.replace('c(', '').replace(')', ''))\n",
    "cleaned_ingredient = cleaned_ingredient.apply(lambda s: s.replace('\"', ''))\n",
    "cleaned_ingredient = cleaned_ingredient.apply(lambda s: s.lower())\n",
    "cleaned_ingredient = cleaned_ingredient.replace('', None)\n",
    "df_recipe[\"RecipeIngredientParts\"] = cleaned_ingredient\n",
    "df_recipe[\"RecipeIngredientParts\"]"
   ],
   "metadata": {
    "collapsed": false,
    "ExecuteTime": {
     "start_time": "2024-03-13T06:33:40.274104Z",
     "end_time": "2024-03-13T06:33:40.910804Z"
    }
   }
  },
  {
   "cell_type": "code",
   "execution_count": 110,
   "outputs": [],
   "source": [
    "cleaned_images = []\n",
    "for value in df_recipe['Images']:\n",
    "    # Convert value to string\n",
    "    value_str = str(value)\n",
    "    # Remove leading and trailing whitespace\n",
    "    value_str = value_str.strip()\n",
    "    # Replace 'character(0)' with None\n",
    "    value_str = value_str.replace('character(0)', 'None')\n",
    "    # Extract the first URL from the string if it starts with 'c(\"'\n",
    "    if value_str.startswith('c(\"'):\n",
    "        first_url = value_str.split('\", \"')[0][3:].strip('\"')\n",
    "        value_str = first_url\n",
    "    else:\n",
    "        value_str = None\n",
    "    cleaned_images.append(value_str)\n",
    "\n",
    "# Update the 'Images' column with cleaned data\n",
    "df_recipe['Images'] = cleaned_images\n"
   ],
   "metadata": {
    "collapsed": false,
    "ExecuteTime": {
     "start_time": "2024-03-13T06:33:40.967514Z",
     "end_time": "2024-03-13T06:33:41.171049Z"
    }
   }
  },
  {
   "cell_type": "code",
   "execution_count": 111,
   "outputs": [],
   "source": [
    "df_recipe = df_recipe.dropna()"
   ],
   "metadata": {
    "collapsed": false,
    "ExecuteTime": {
     "start_time": "2024-03-13T06:33:41.170832Z",
     "end_time": "2024-03-13T06:33:41.340550Z"
    }
   }
  },
  {
   "cell_type": "code",
   "execution_count": 112,
   "outputs": [
    {
     "data": {
      "text/plain": "0         https://img.sndimg.com/food/image/upload/w_555...\n1         https://img.sndimg.com/food/image/upload/w_555...\n2         https://img.sndimg.com/food/image/upload/w_555...\n3         https://img.sndimg.com/food/image/upload/w_555...\n9         https://img.sndimg.com/food/image/upload/w_555...\n                                ...                        \n521829    https://img.sndimg.com/food/image/upload/w_555...\n521863    https://img.sndimg.com/food/image/upload/w_555...\n521864    https://img.sndimg.com/food/image/upload/w_555...\n522018    https://img.sndimg.com/food/image/upload/w_555...\n522330    https://img.sndimg.com/food/image/upload/w_555...\nName: Images, Length: 75633, dtype: object"
     },
     "execution_count": 112,
     "metadata": {},
     "output_type": "execute_result"
    }
   ],
   "source": [
    "df_recipe['Images']"
   ],
   "metadata": {
    "collapsed": false,
    "ExecuteTime": {
     "start_time": "2024-03-13T06:33:41.341145Z",
     "end_time": "2024-03-13T06:33:41.344696Z"
    }
   }
  },
  {
   "cell_type": "code",
   "execution_count": 113,
   "outputs": [
    {
     "data": {
      "text/plain": "        RecipeId                              Name    AuthorId  \\\n0             38  lowfat berry blue frozen dessert        1533   \n1             39                           biryani        1567   \n2             40                     best lemonade        1566   \n3             41      carinas tofuvegetable kebabs        1586   \n9             47              butter pecan cookies        1573   \n...          ...                               ...         ...   \n521829    540682        suffering bastard cocktail      219942   \n521863    540716              cantaloupe margarita      219942   \n521864    540717             honey paloma cocktail      219942   \n522018    540876      backyard breakfast egg salad       50509   \n522330    541195      the most refreshing lemonade  2002848998   \n\n            AuthorName                                        Description  \\\n0               Dancer  Make and share this Low-Fat Berry Blue Frozen ...   \n1             elly9812  Make and share this Biryani recipe from Food.com.   \n2       Stephen Little  This is from one of my  first Good House Keepi...   \n3              Cyclopz  This dish is best prepared a day in advance to...   \n9               benluc  Make and share this Butter Pecan Cookies recip...   \n...                ...                                                ...   \n521829     Chef PotPie  This rum and gin based cocktail was served as ...   \n521863     Chef PotPie  I've been trying all kinds of margaritas this ...   \n521864     Chef PotPie  Added this to the list of cocktails to try thi...   \n522018         duonyte  I was gifted with eggs from the backyard coop ...   \n522330    YummyFood510  Lemonade is so refreshing. You won't believe h...   \n\n                                                   Images   RecipeCategory  \\\n0       https://img.sndimg.com/food/image/upload/w_555...  Frozen Desserts   \n1       https://img.sndimg.com/food/image/upload/w_555...   Chicken Breast   \n2       https://img.sndimg.com/food/image/upload/w_555...        Beverages   \n3       https://img.sndimg.com/food/image/upload/w_555...         Soy/Tofu   \n9       https://img.sndimg.com/food/image/upload/w_555...          Dessert   \n...                                                   ...              ...   \n521829  https://img.sndimg.com/food/image/upload/w_555...        Beverages   \n521863  https://img.sndimg.com/food/image/upload/w_555...        Beverages   \n521864  https://img.sndimg.com/food/image/upload/w_555...        Beverages   \n522018  https://img.sndimg.com/food/image/upload/w_555...        Breakfast   \n522330  https://img.sndimg.com/food/image/upload/w_555...        Beverages   \n\n                                    RecipeIngredientParts  AggregatedRating  \\\n0       blueberries, granulated sugar, vanilla yogurt,...               4.5   \n1       saffron, milk, hot green chili peppers, onions...               3.0   \n2       sugar, lemons, rind of, lemon, zest of, fresh ...               4.5   \n3       extra firm tofu, eggplant, zucchini, mushrooms...               4.5   \n9       butter, brown sugar, granulated sugar, vanilla...               4.0   \n...                                                   ...               ...   \n521829  bourbon, fresh lime juice, ginger ale, mint sprig               5.0   \n521863         cantaloupe, lime juice, sugar, coarse salt               5.0   \n521864  grapefruit juice, fresh lime juice, honey syru...               5.0   \n522018  eggs, mayonnaise, dijon mustard, red onions, f...               5.0   \n522330               white sugar, cold water, lemon juice               5.0   \n\n        ReviewCount                                 RecipeInstructions  \n0               4.0  toss 2 cups berries with sugar., let stand for...  \n1               1.0  soak saffron in warm milk for 5 minutes and pu...  \n2              10.0  into a 1 quart jar with tight fitting lid, put...  \n3               2.0  drain the tofu, carefully squeezing out excess...  \n9               2.0  preheat oven to 350 degrees., cream butter in ...  \n...             ...                                                ...  \n521829          1.0  add the bourbon, gin, lime juice and bitters i...  \n521863          2.0  in a blender or food processor, blend the cant...  \n521864          1.0  for the honey syrup:, in a small sauce pot com...  \n522018          1.0  1. chop the eggs., 2. combine the mayonnaise, ...  \n522330          1.0  in a saucepan, add the sugar and 1 cup cold wa...  \n\n[75633 rows x 11 columns]",
      "text/html": "<div>\n<style scoped>\n    .dataframe tbody tr th:only-of-type {\n        vertical-align: middle;\n    }\n\n    .dataframe tbody tr th {\n        vertical-align: top;\n    }\n\n    .dataframe thead th {\n        text-align: right;\n    }\n</style>\n<table border=\"1\" class=\"dataframe\">\n  <thead>\n    <tr style=\"text-align: right;\">\n      <th></th>\n      <th>RecipeId</th>\n      <th>Name</th>\n      <th>AuthorId</th>\n      <th>AuthorName</th>\n      <th>Description</th>\n      <th>Images</th>\n      <th>RecipeCategory</th>\n      <th>RecipeIngredientParts</th>\n      <th>AggregatedRating</th>\n      <th>ReviewCount</th>\n      <th>RecipeInstructions</th>\n    </tr>\n  </thead>\n  <tbody>\n    <tr>\n      <th>0</th>\n      <td>38</td>\n      <td>lowfat berry blue frozen dessert</td>\n      <td>1533</td>\n      <td>Dancer</td>\n      <td>Make and share this Low-Fat Berry Blue Frozen ...</td>\n      <td>https://img.sndimg.com/food/image/upload/w_555...</td>\n      <td>Frozen Desserts</td>\n      <td>blueberries, granulated sugar, vanilla yogurt,...</td>\n      <td>4.5</td>\n      <td>4.0</td>\n      <td>toss 2 cups berries with sugar., let stand for...</td>\n    </tr>\n    <tr>\n      <th>1</th>\n      <td>39</td>\n      <td>biryani</td>\n      <td>1567</td>\n      <td>elly9812</td>\n      <td>Make and share this Biryani recipe from Food.com.</td>\n      <td>https://img.sndimg.com/food/image/upload/w_555...</td>\n      <td>Chicken Breast</td>\n      <td>saffron, milk, hot green chili peppers, onions...</td>\n      <td>3.0</td>\n      <td>1.0</td>\n      <td>soak saffron in warm milk for 5 minutes and pu...</td>\n    </tr>\n    <tr>\n      <th>2</th>\n      <td>40</td>\n      <td>best lemonade</td>\n      <td>1566</td>\n      <td>Stephen Little</td>\n      <td>This is from one of my  first Good House Keepi...</td>\n      <td>https://img.sndimg.com/food/image/upload/w_555...</td>\n      <td>Beverages</td>\n      <td>sugar, lemons, rind of, lemon, zest of, fresh ...</td>\n      <td>4.5</td>\n      <td>10.0</td>\n      <td>into a 1 quart jar with tight fitting lid, put...</td>\n    </tr>\n    <tr>\n      <th>3</th>\n      <td>41</td>\n      <td>carinas tofuvegetable kebabs</td>\n      <td>1586</td>\n      <td>Cyclopz</td>\n      <td>This dish is best prepared a day in advance to...</td>\n      <td>https://img.sndimg.com/food/image/upload/w_555...</td>\n      <td>Soy/Tofu</td>\n      <td>extra firm tofu, eggplant, zucchini, mushrooms...</td>\n      <td>4.5</td>\n      <td>2.0</td>\n      <td>drain the tofu, carefully squeezing out excess...</td>\n    </tr>\n    <tr>\n      <th>9</th>\n      <td>47</td>\n      <td>butter pecan cookies</td>\n      <td>1573</td>\n      <td>benluc</td>\n      <td>Make and share this Butter Pecan Cookies recip...</td>\n      <td>https://img.sndimg.com/food/image/upload/w_555...</td>\n      <td>Dessert</td>\n      <td>butter, brown sugar, granulated sugar, vanilla...</td>\n      <td>4.0</td>\n      <td>2.0</td>\n      <td>preheat oven to 350 degrees., cream butter in ...</td>\n    </tr>\n    <tr>\n      <th>...</th>\n      <td>...</td>\n      <td>...</td>\n      <td>...</td>\n      <td>...</td>\n      <td>...</td>\n      <td>...</td>\n      <td>...</td>\n      <td>...</td>\n      <td>...</td>\n      <td>...</td>\n      <td>...</td>\n    </tr>\n    <tr>\n      <th>521829</th>\n      <td>540682</td>\n      <td>suffering bastard cocktail</td>\n      <td>219942</td>\n      <td>Chef PotPie</td>\n      <td>This rum and gin based cocktail was served as ...</td>\n      <td>https://img.sndimg.com/food/image/upload/w_555...</td>\n      <td>Beverages</td>\n      <td>bourbon, fresh lime juice, ginger ale, mint sprig</td>\n      <td>5.0</td>\n      <td>1.0</td>\n      <td>add the bourbon, gin, lime juice and bitters i...</td>\n    </tr>\n    <tr>\n      <th>521863</th>\n      <td>540716</td>\n      <td>cantaloupe margarita</td>\n      <td>219942</td>\n      <td>Chef PotPie</td>\n      <td>I've been trying all kinds of margaritas this ...</td>\n      <td>https://img.sndimg.com/food/image/upload/w_555...</td>\n      <td>Beverages</td>\n      <td>cantaloupe, lime juice, sugar, coarse salt</td>\n      <td>5.0</td>\n      <td>2.0</td>\n      <td>in a blender or food processor, blend the cant...</td>\n    </tr>\n    <tr>\n      <th>521864</th>\n      <td>540717</td>\n      <td>honey paloma cocktail</td>\n      <td>219942</td>\n      <td>Chef PotPie</td>\n      <td>Added this to the list of cocktails to try thi...</td>\n      <td>https://img.sndimg.com/food/image/upload/w_555...</td>\n      <td>Beverages</td>\n      <td>grapefruit juice, fresh lime juice, honey syru...</td>\n      <td>5.0</td>\n      <td>1.0</td>\n      <td>for the honey syrup:, in a small sauce pot com...</td>\n    </tr>\n    <tr>\n      <th>522018</th>\n      <td>540876</td>\n      <td>backyard breakfast egg salad</td>\n      <td>50509</td>\n      <td>duonyte</td>\n      <td>I was gifted with eggs from the backyard coop ...</td>\n      <td>https://img.sndimg.com/food/image/upload/w_555...</td>\n      <td>Breakfast</td>\n      <td>eggs, mayonnaise, dijon mustard, red onions, f...</td>\n      <td>5.0</td>\n      <td>1.0</td>\n      <td>1. chop the eggs., 2. combine the mayonnaise, ...</td>\n    </tr>\n    <tr>\n      <th>522330</th>\n      <td>541195</td>\n      <td>the most refreshing lemonade</td>\n      <td>2002848998</td>\n      <td>YummyFood510</td>\n      <td>Lemonade is so refreshing. You won't believe h...</td>\n      <td>https://img.sndimg.com/food/image/upload/w_555...</td>\n      <td>Beverages</td>\n      <td>white sugar, cold water, lemon juice</td>\n      <td>5.0</td>\n      <td>1.0</td>\n      <td>in a saucepan, add the sugar and 1 cup cold wa...</td>\n    </tr>\n  </tbody>\n</table>\n<p>75633 rows × 11 columns</p>\n</div>"
     },
     "execution_count": 113,
     "metadata": {},
     "output_type": "execute_result"
    }
   ],
   "source": [
    "df_recipe"
   ],
   "metadata": {
    "collapsed": false,
    "ExecuteTime": {
     "start_time": "2024-03-13T06:33:41.351441Z",
     "end_time": "2024-03-13T06:33:41.354857Z"
    }
   }
  },
  {
   "cell_type": "code",
   "execution_count": 114,
   "outputs": [],
   "source": [
    "output_dir = Path(os.path.abspath('')).parent / \"data\" / \"processed\"\n",
    "output_file = open(str(output_dir) + \"/cleaned_df.pkl\", \"wb\")\n",
    "pickle.dump(df_recipe, output_file)"
   ],
   "metadata": {
    "collapsed": false,
    "ExecuteTime": {
     "start_time": "2024-03-13T06:33:41.359189Z",
     "end_time": "2024-03-13T06:33:41.524022Z"
    }
   }
  },
  {
   "cell_type": "code",
   "execution_count": 115,
   "outputs": [],
   "source": [
    "review_folder = Path(os.path.abspath('')).parent / \"data\" / \"raw\" / \"reviews.csv\"\n",
    "df_review = pd.read_csv(review_folder, encoding='UTF-8')"
   ],
   "metadata": {
    "collapsed": false,
    "ExecuteTime": {
     "start_time": "2024-03-13T06:33:41.522541Z",
     "end_time": "2024-03-13T06:33:46.422214Z"
    }
   }
  },
  {
   "cell_type": "code",
   "execution_count": 116,
   "outputs": [
    {
     "data": {
      "text/plain": "         ReviewId  RecipeId    AuthorId        AuthorName  Rating  \\\n0               2       992        2008         gayg msft       5   \n1               7      4384        1634     Bill Hilbrich       4   \n2               9      4523        2046  Gay Gilmore ckpt       2   \n3              13      7435        1773     Malarkey Test       5   \n4              14        44        2085        Tony Small       5   \n...           ...       ...         ...               ...     ...   \n1401977   2090339    139499  2002080368       terrylbiggs       2   \n1401978   2090340    148484    41805321        rogerberry       5   \n1401979   2090341    264191  2002901848    Reiketsukan 6.       5   \n1401980   2090345    411791  2002901938            Sue M.       5   \n1401981   2090347    352686  2002812127        dede25cory       5   \n\n                                                    Review  \\\n0             better than any you can get at a restaurant!   \n1        I cut back on the mayo, and made up the differ...   \n2        i think i did something wrong because i could ...   \n3        easily the best i have ever had.  juicy flavor...   \n4                                       An excellent dish.   \n...                                                    ...   \n1401977  I was disappointed. I couldn't wait to make th...   \n1401978  Nothing to drain. And I don’t heat up the liqu...   \n1401979  Good base recipe for someone to start with. I ...   \n1401980  Thank you so much for this amazing recipe! I l...   \n1401981  I can't say enough about this recipe.... the b...   \n\n                DateSubmitted          DateModified  \n0        2000-01-25T21:44:00Z  2000-01-25T21:44:00Z  \n1        2001-10-17T16:49:59Z  2001-10-17T16:49:59Z  \n2        2000-02-25T09:00:00Z  2000-02-25T09:00:00Z  \n3        2000-03-13T21:15:00Z  2000-03-13T21:15:00Z  \n4        2000-03-28T12:51:00Z  2000-03-28T12:51:00Z  \n...                       ...                   ...  \n1401977  2020-12-27T23:57:54Z  2020-12-27T23:57:54Z  \n1401978  2020-12-28T00:44:42Z  2020-12-28T00:44:42Z  \n1401979  2020-12-28T01:04:43Z  2020-12-28T01:04:43Z  \n1401980  2020-12-28T03:07:10Z  2020-12-28T03:07:10Z  \n1401981  2020-12-28T03:23:48Z  2020-12-28T03:23:48Z  \n\n[1401982 rows x 8 columns]",
      "text/html": "<div>\n<style scoped>\n    .dataframe tbody tr th:only-of-type {\n        vertical-align: middle;\n    }\n\n    .dataframe tbody tr th {\n        vertical-align: top;\n    }\n\n    .dataframe thead th {\n        text-align: right;\n    }\n</style>\n<table border=\"1\" class=\"dataframe\">\n  <thead>\n    <tr style=\"text-align: right;\">\n      <th></th>\n      <th>ReviewId</th>\n      <th>RecipeId</th>\n      <th>AuthorId</th>\n      <th>AuthorName</th>\n      <th>Rating</th>\n      <th>Review</th>\n      <th>DateSubmitted</th>\n      <th>DateModified</th>\n    </tr>\n  </thead>\n  <tbody>\n    <tr>\n      <th>0</th>\n      <td>2</td>\n      <td>992</td>\n      <td>2008</td>\n      <td>gayg msft</td>\n      <td>5</td>\n      <td>better than any you can get at a restaurant!</td>\n      <td>2000-01-25T21:44:00Z</td>\n      <td>2000-01-25T21:44:00Z</td>\n    </tr>\n    <tr>\n      <th>1</th>\n      <td>7</td>\n      <td>4384</td>\n      <td>1634</td>\n      <td>Bill Hilbrich</td>\n      <td>4</td>\n      <td>I cut back on the mayo, and made up the differ...</td>\n      <td>2001-10-17T16:49:59Z</td>\n      <td>2001-10-17T16:49:59Z</td>\n    </tr>\n    <tr>\n      <th>2</th>\n      <td>9</td>\n      <td>4523</td>\n      <td>2046</td>\n      <td>Gay Gilmore ckpt</td>\n      <td>2</td>\n      <td>i think i did something wrong because i could ...</td>\n      <td>2000-02-25T09:00:00Z</td>\n      <td>2000-02-25T09:00:00Z</td>\n    </tr>\n    <tr>\n      <th>3</th>\n      <td>13</td>\n      <td>7435</td>\n      <td>1773</td>\n      <td>Malarkey Test</td>\n      <td>5</td>\n      <td>easily the best i have ever had.  juicy flavor...</td>\n      <td>2000-03-13T21:15:00Z</td>\n      <td>2000-03-13T21:15:00Z</td>\n    </tr>\n    <tr>\n      <th>4</th>\n      <td>14</td>\n      <td>44</td>\n      <td>2085</td>\n      <td>Tony Small</td>\n      <td>5</td>\n      <td>An excellent dish.</td>\n      <td>2000-03-28T12:51:00Z</td>\n      <td>2000-03-28T12:51:00Z</td>\n    </tr>\n    <tr>\n      <th>...</th>\n      <td>...</td>\n      <td>...</td>\n      <td>...</td>\n      <td>...</td>\n      <td>...</td>\n      <td>...</td>\n      <td>...</td>\n      <td>...</td>\n    </tr>\n    <tr>\n      <th>1401977</th>\n      <td>2090339</td>\n      <td>139499</td>\n      <td>2002080368</td>\n      <td>terrylbiggs</td>\n      <td>2</td>\n      <td>I was disappointed. I couldn't wait to make th...</td>\n      <td>2020-12-27T23:57:54Z</td>\n      <td>2020-12-27T23:57:54Z</td>\n    </tr>\n    <tr>\n      <th>1401978</th>\n      <td>2090340</td>\n      <td>148484</td>\n      <td>41805321</td>\n      <td>rogerberry</td>\n      <td>5</td>\n      <td>Nothing to drain. And I don’t heat up the liqu...</td>\n      <td>2020-12-28T00:44:42Z</td>\n      <td>2020-12-28T00:44:42Z</td>\n    </tr>\n    <tr>\n      <th>1401979</th>\n      <td>2090341</td>\n      <td>264191</td>\n      <td>2002901848</td>\n      <td>Reiketsukan 6.</td>\n      <td>5</td>\n      <td>Good base recipe for someone to start with. I ...</td>\n      <td>2020-12-28T01:04:43Z</td>\n      <td>2020-12-28T01:04:43Z</td>\n    </tr>\n    <tr>\n      <th>1401980</th>\n      <td>2090345</td>\n      <td>411791</td>\n      <td>2002901938</td>\n      <td>Sue M.</td>\n      <td>5</td>\n      <td>Thank you so much for this amazing recipe! I l...</td>\n      <td>2020-12-28T03:07:10Z</td>\n      <td>2020-12-28T03:07:10Z</td>\n    </tr>\n    <tr>\n      <th>1401981</th>\n      <td>2090347</td>\n      <td>352686</td>\n      <td>2002812127</td>\n      <td>dede25cory</td>\n      <td>5</td>\n      <td>I can't say enough about this recipe.... the b...</td>\n      <td>2020-12-28T03:23:48Z</td>\n      <td>2020-12-28T03:23:48Z</td>\n    </tr>\n  </tbody>\n</table>\n<p>1401982 rows × 8 columns</p>\n</div>"
     },
     "execution_count": 116,
     "metadata": {},
     "output_type": "execute_result"
    }
   ],
   "source": [
    "df_review"
   ],
   "metadata": {
    "collapsed": false,
    "ExecuteTime": {
     "start_time": "2024-03-13T06:33:46.424706Z",
     "end_time": "2024-03-13T06:33:46.427636Z"
    }
   }
  },
  {
   "cell_type": "code",
   "execution_count": 117,
   "outputs": [
    {
     "data": {
      "text/plain": "0                better than any you can get at a restaurant\n1          i cut back on the mayo and made up the differe...\n2          i think i did something wrong because i could ...\n3          easily the best i have ever had  juicy flavorf...\n4                                          an excellent dish\n                                 ...                        \n1401977    i was disappointed i couldnt wait to make thes...\n1401978    nothing to drain and i don’t heat up the liqui...\n1401979    good base recipe for someone to start with i q...\n1401980    thank you so much for this amazing recipe i li...\n1401981    i cant say enough about this recipe the best p...\nName: Review, Length: 1401982, dtype: object"
     },
     "execution_count": 117,
     "metadata": {},
     "output_type": "execute_result"
    }
   ],
   "source": [
    "raw_review = df_review['Review'].astype(str)\n",
    "cleaned_review = raw_review.apply(lambda s: s.translate(str.maketrans('','', string.punctuation + u'\\xa0')))\n",
    "cleaned_review = cleaned_review.apply(lambda s: s.lower())\n",
    "cleaned_review"
   ],
   "metadata": {
    "collapsed": false,
    "ExecuteTime": {
     "start_time": "2024-03-13T06:33:46.427969Z",
     "end_time": "2024-03-13T06:33:50.642667Z"
    }
   }
  },
  {
   "cell_type": "code",
   "execution_count": 118,
   "outputs": [
    {
     "data": {
      "text/plain": "0               better than any you can get at a restaurant!\n1          I cut back on the mayo, and made up the differ...\n2          i think i did something wrong because i could ...\n3          easily the best i have ever had.  juicy flavor...\n4                                         An excellent dish.\n                                 ...                        \n1401977    I was disappointed. I couldn't wait to make th...\n1401978    Nothing to drain. And I don’t heat up the liqu...\n1401979    Good base recipe for someone to start with. I ...\n1401980    Thank you so much for this amazing recipe! I l...\n1401981    I can't say enough about this recipe.... the b...\nName: Review, Length: 1401982, dtype: object"
     },
     "execution_count": 118,
     "metadata": {},
     "output_type": "execute_result"
    }
   ],
   "source": [
    "raw_review"
   ],
   "metadata": {
    "collapsed": false,
    "ExecuteTime": {
     "start_time": "2024-03-13T06:33:50.643008Z",
     "end_time": "2024-03-13T06:33:50.645901Z"
    }
   }
  },
  {
   "cell_type": "code",
   "execution_count": 118,
   "outputs": [],
   "source": [],
   "metadata": {
    "collapsed": false,
    "ExecuteTime": {
     "start_time": "2024-03-13T06:33:50.646341Z",
     "end_time": "2024-03-13T06:33:50.648201Z"
    }
   }
  }
 ],
 "metadata": {
  "kernelspec": {
   "display_name": "Python 3",
   "language": "python",
   "name": "python3"
  },
  "language_info": {
   "codemirror_mode": {
    "name": "ipython",
    "version": 2
   },
   "file_extension": ".py",
   "mimetype": "text/x-python",
   "name": "python",
   "nbconvert_exporter": "python",
   "pygments_lexer": "ipython2",
   "version": "2.7.6"
  }
 },
 "nbformat": 4,
 "nbformat_minor": 0
}
